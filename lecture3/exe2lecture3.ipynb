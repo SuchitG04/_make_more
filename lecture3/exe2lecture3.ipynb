{
 "cells": [
  {
   "cell_type": "code",
   "execution_count": 1,
   "id": "40e5be26-e901-42b1-81a8-71bdd43ce4c3",
   "metadata": {},
   "outputs": [],
   "source": [
    "import torch\n",
    "import torch.nn.functional as F\n",
    "import matplotlib.pyplot as plt\n",
    "%matplotlib inline"
   ]
  },
  {
   "cell_type": "code",
   "execution_count": 2,
   "id": "c237d021-aa34-4d80-96ad-245aa7b00812",
   "metadata": {},
   "outputs": [
    {
     "data": {
      "text/plain": [
       "['emma',\n",
       " 'olivia',\n",
       " 'ava',\n",
       " 'isabella',\n",
       " 'sophia',\n",
       " 'charlotte',\n",
       " 'mia',\n",
       " 'amelia',\n",
       " 'harper',\n",
       " 'evelyn']"
      ]
     },
     "execution_count": 2,
     "metadata": {},
     "output_type": "execute_result"
    }
   ],
   "source": [
    "words = open(\"../data/names.txt\", 'r').read().splitlines()\n",
    "words[:10]"
   ]
  },
  {
   "cell_type": "code",
   "execution_count": 3,
   "id": "a1453039-6944-486d-8415-92cd5bfce8f9",
   "metadata": {},
   "outputs": [],
   "source": [
    "chars = sorted(list(set(''.join(words))))\n",
    "stoi = {s: i+1 for i, s in enumerate(chars)}\n",
    "stoi['.'] = 0\n",
    "itos = {i: s for s, i in stoi.items()}"
   ]
  },
  {
   "cell_type": "code",
   "execution_count": 4,
   "id": "adfeb8d4-1268-4736-8740-cd69f02268b9",
   "metadata": {
    "scrolled": true
   },
   "outputs": [
    {
     "name": "stdout",
     "output_type": "stream",
     "text": [
      "---\n",
      "emma\n",
      "---\n",
      "...  --->  e\n",
      "..e  --->  m\n",
      ".em  --->  m\n",
      "emm  --->  a\n",
      "mma  --->  .\n",
      "---\n",
      "olivia\n",
      "---\n",
      "...  --->  o\n",
      "..o  --->  l\n",
      ".ol  --->  i\n",
      "oli  --->  v\n",
      "liv  --->  i\n",
      "ivi  --->  a\n",
      "via  --->  .\n",
      "---\n",
      "ava\n",
      "---\n",
      "...  --->  a\n",
      "..a  --->  v\n",
      ".av  --->  a\n",
      "ava  --->  .\n",
      "---\n",
      "isabella\n",
      "---\n",
      "...  --->  i\n",
      "..i  --->  s\n",
      ".is  --->  a\n",
      "isa  --->  b\n",
      "sab  --->  e\n",
      "abe  --->  l\n",
      "bel  --->  l\n",
      "ell  --->  a\n",
      "lla  --->  .\n",
      "---\n",
      "sophia\n",
      "---\n",
      "...  --->  s\n",
      "..s  --->  o\n",
      ".so  --->  p\n",
      "sop  --->  h\n",
      "oph  --->  i\n",
      "phi  --->  a\n",
      "hia  --->  .\n"
     ]
    }
   ],
   "source": [
    "block_sz = 3\n",
    "X, Y = [], []\n",
    "\n",
    "for w in words[:5]:\n",
    "\n",
    "    print(\"---\")\n",
    "    print(w)\n",
    "    print(\"---\")\n",
    "    context = [0] * block_sz\n",
    "    for ch in w + \".\":\n",
    "        ix = stoi[ch]\n",
    "        print(''.join(itos[i] for i in context), \" ---> \", itos[ix])\n",
    "        context = context[1:] + [ix]"
   ]
  },
  {
   "cell_type": "code",
   "execution_count": 5,
   "id": "d0970b76-9b0e-46fc-91ec-74fa60bb287f",
   "metadata": {},
   "outputs": [],
   "source": [
    "def create_dataset(words, block_sz=3):\n",
    "    X, Y = [], []\n",
    "    for w in words:\n",
    "        context = [0] * block_sz\n",
    "        for ch in w + '.':\n",
    "            ix = stoi[ch]\n",
    "            X.append(context)\n",
    "            Y.append(ix)\n",
    "            context = context[1:] + [ix]\n",
    "\n",
    "    X = torch.tensor(X)\n",
    "    Y = torch.tensor(Y)\n",
    "    return X, Y"
   ]
  },
  {
   "cell_type": "code",
   "execution_count": 6,
   "id": "6328243e-6f1d-4329-96a4-48d6477f6301",
   "metadata": {},
   "outputs": [
    {
     "data": {
      "text/plain": [
       "32033"
      ]
     },
     "execution_count": 6,
     "metadata": {},
     "output_type": "execute_result"
    }
   ],
   "source": [
    "len(words)"
   ]
  },
  {
   "cell_type": "code",
   "execution_count": 7,
   "id": "4fcd30b1-8fbf-4462-bd5f-46a6942e288c",
   "metadata": {},
   "outputs": [],
   "source": [
    "import random\n",
    "\n",
    "random.shuffle(words)\n",
    "n1 = int(0.8 * len(words))\n",
    "n2 = int(0.9 * len(words))\n",
    "\n",
    "Xtr, Ytr = create_dataset(words[:n1])\n",
    "Xdev, Ydev = create_dataset(words[n1:n2])\n",
    "Xte, Yte = create_dataset(words[n2:])"
   ]
  },
  {
   "cell_type": "code",
   "execution_count": 8,
   "id": "3f92ee74-f5c2-4e9e-ab38-d79580d0d0a3",
   "metadata": {},
   "outputs": [
    {
     "data": {
      "text/plain": [
       "(torch.Size([182775, 3]), torch.Size([22718, 3]), torch.Size([22653, 3]))"
      ]
     },
     "execution_count": 8,
     "metadata": {},
     "output_type": "execute_result"
    }
   ],
   "source": [
    "Xtr.shape, Xdev.shape, Xte.shape"
   ]
  },
  {
   "cell_type": "code",
   "execution_count": 9,
   "id": "46d095db-5291-4a9e-861e-5f73e4cd682c",
   "metadata": {},
   "outputs": [],
   "source": [
    "g = torch.Generator().manual_seed(214783647)\n",
    "C = torch.randn((27, 10), generator=g)\n",
    "W1 = torch.randn((30, 200), generator=g)\n",
    "b1 = torch.randn(200, generator=g)\n",
    "W2 = torch.randn((200, 27), generator=g)\n",
    "b2 = torch.randn(27, generator=g)\n",
    "parameters = [C, W1, b1, W2, b2]"
   ]
  },
  {
   "cell_type": "code",
   "execution_count": 10,
   "id": "dfc321fa-07d5-4198-956d-318ab0134da3",
   "metadata": {},
   "outputs": [
    {
     "data": {
      "text/plain": [
       "11897"
      ]
     },
     "execution_count": 10,
     "metadata": {},
     "output_type": "execute_result"
    }
   ],
   "source": [
    "sum(p.nelement() for p in parameters)"
   ]
  },
  {
   "cell_type": "code",
   "execution_count": 33,
   "id": "c30e49f5-2e37-41cd-953e-2a624f35bbf4",
   "metadata": {},
   "outputs": [],
   "source": [
    "for p in parameters:\n",
    "    p.requires_grad = True"
   ]
  },
  {
   "cell_type": "markdown",
   "id": "914ac950-9eaf-40ec-914a-117803411641",
   "metadata": {},
   "source": [
    "#### Loss when the predicted proabilities are uniform"
   ]
  },
  {
   "cell_type": "code",
   "execution_count": 31,
   "id": "f5b6a97d-d778-4a1b-ac39-038c77da93c3",
   "metadata": {},
   "outputs": [
    {
     "name": "stdout",
     "output_type": "stream",
     "text": [
      "3.295836925506592\n"
     ]
    }
   ],
   "source": [
    "with torch.no_grad():\n",
    "    probs = torch.tensor([1/27] * 27)\n",
    "    loss = F.cross_entropy(probs, Ytr[5])\n",
    "    print(loss.item())"
   ]
  },
  {
   "cell_type": "markdown",
   "id": "4f25aa07-9f99-453b-a4b7-bc8fb05f0ac4",
   "metadata": {},
   "source": [
    "### Training parameters to give out uniform probabilites"
   ]
  },
  {
   "cell_type": "code",
   "execution_count": 132,
   "id": "33aa5229-f77b-44f5-ab04-57ac62bb587b",
   "metadata": {},
   "outputs": [],
   "source": [
    "g = torch.Generator().manual_seed(214783647)\n",
    "C = torch.randn((27, 10), generator=g)\n",
    "W1 = torch.randn((30, 200), generator=g)\n",
    "b1 = torch.randn(200, generator=g)\n",
    "W2 = torch.randn((200, 27), generator=g)\n",
    "b2 = torch.randn(27, generator=g)\n",
    "parameters = [C, W1, b1, W2, b2]"
   ]
  },
  {
   "cell_type": "code",
   "execution_count": 133,
   "id": "13e39b9d-3611-48a9-9cd5-7095399c2cac",
   "metadata": {},
   "outputs": [],
   "source": [
    "for p in parameters:\n",
    "    p.requires_grad = True"
   ]
  },
  {
   "cell_type": "code",
   "execution_count": 134,
   "id": "2eb084b2-c434-44ed-b45e-2aff938d7bb8",
   "metadata": {},
   "outputs": [],
   "source": [
    "target = torch.ones((27, )) / 27"
   ]
  },
  {
   "cell_type": "code",
   "execution_count": 135,
   "id": "89c6f05c-4b7b-4807-88bd-b101d5d67c34",
   "metadata": {},
   "outputs": [
    {
     "data": {
      "text/plain": [
       "tensor([0.0370, 0.0370, 0.0370, 0.0370, 0.0370, 0.0370, 0.0370, 0.0370, 0.0370,\n",
       "        0.0370, 0.0370, 0.0370, 0.0370, 0.0370, 0.0370, 0.0370, 0.0370, 0.0370,\n",
       "        0.0370, 0.0370, 0.0370, 0.0370, 0.0370, 0.0370, 0.0370, 0.0370, 0.0370])"
      ]
     },
     "execution_count": 135,
     "metadata": {},
     "output_type": "execute_result"
    }
   ],
   "source": [
    "target"
   ]
  },
  {
   "cell_type": "code",
   "execution_count": 136,
   "id": "947b6049-7c95-4a66-b5e6-11950aa6d42e",
   "metadata": {
    "scrolled": true
   },
   "outputs": [
    {
     "data": {
      "text/plain": [
       "torch.Size([32, 27])"
      ]
     },
     "execution_count": 136,
     "metadata": {},
     "output_type": "execute_result"
    }
   ],
   "source": [
    "target = target.repeat((32, 1)); target.shape"
   ]
  },
  {
   "cell_type": "markdown",
   "id": "cfb3334d-0f20-4f87-b179-f553327ccd3a",
   "metadata": {},
   "source": [
    "Here, we are training the parameters to output uniform probabilities."
   ]
  },
  {
   "cell_type": "code",
   "execution_count": 137,
   "id": "1de9db42-17b3-4b00-bcf5-8484b4c0cb55",
   "metadata": {
    "scrolled": true
   },
   "outputs": [],
   "source": [
    "for _ in range(7000):\n",
    "    ix = torch.randint(0, Xtr.shape[0], (32, ))\n",
    "    \n",
    "    # forward pass\n",
    "    emb = C[Xtr[ix]]\n",
    "    h = torch.tanh(emb.view(-1, 30) @ W1 + b1)\n",
    "    logits = h @ W2 + b2\n",
    "    loss = F.mse_loss(logits, target)\n",
    "\n",
    "    # backward pass\n",
    "    for p in parameters:\n",
    "        p.grad = None\n",
    "    loss.backward()\n",
    "    # print(loss.item())\n",
    "\n",
    "    lr = 0.1\n",
    "    for p in parameters:\n",
    "        p.data -= lr * p.grad"
   ]
  },
  {
   "cell_type": "code",
   "execution_count": 138,
   "id": "d46557fc-93c1-4ec6-b269-f132cfcb487e",
   "metadata": {},
   "outputs": [
    {
     "name": "stdout",
     "output_type": "stream",
     "text": [
      "3.326951503753662\n"
     ]
    }
   ],
   "source": [
    "with torch.no_grad():\n",
    "    emb = C[Xtr]\n",
    "    h = torch.tanh(emb.view(-1, 30) @ W1 + b1)\n",
    "    logits = h @ W2 + b2\n",
    "    loss = F.cross_entropy(logits, Ytr)\n",
    "    print(loss.item())"
   ]
  },
  {
   "cell_type": "code",
   "execution_count": 139,
   "id": "5f61df8e-1690-4e89-bf4c-c14adf9c122d",
   "metadata": {},
   "outputs": [
    {
     "data": {
      "text/plain": [
       "tensor([-0.0886,  0.0328,  0.1360,  0.0213,  0.0158,  0.0285,  0.0105,  0.0119,\n",
       "         0.0075,  0.0208,  0.0882, -0.0239, -0.0518,  0.1522, -0.0452,  0.0267,\n",
       "         0.0414,  0.0677,  0.0421,  0.0052,  0.1898,  0.0553,  0.1096,  0.0186,\n",
       "         0.0847,  0.1009,  0.0044])"
      ]
     },
     "execution_count": 139,
     "metadata": {},
     "output_type": "execute_result"
    }
   ],
   "source": [
    "logits[0]"
   ]
  },
  {
   "cell_type": "code",
   "execution_count": 140,
   "id": "bde21476-acf8-46d2-96c1-a4ebcabbd76c",
   "metadata": {},
   "outputs": [
    {
     "name": "stdout",
     "output_type": "stream",
     "text": [
      "3.3410379886627197\n"
     ]
    }
   ],
   "source": [
    "with torch.no_grad():\n",
    "    loss = F.cross_entropy(logits[1234], Ytr[5])\n",
    "    print(loss.item())"
   ]
  },
  {
   "cell_type": "code",
   "execution_count": null,
   "id": "9f117816-7656-4c35-8d46-497bea88de61",
   "metadata": {},
   "outputs": [],
   "source": []
  },
  {
   "cell_type": "code",
   "execution_count": null,
   "id": "17de1627-91c4-4282-a9ee-864313e58e8f",
   "metadata": {},
   "outputs": [],
   "source": []
  },
  {
   "cell_type": "code",
   "execution_count": 141,
   "id": "bcd8e520-a605-4973-90c4-f967812e0c3a",
   "metadata": {
    "scrolled": true
   },
   "outputs": [],
   "source": [
    "lossi = []\n",
    "stepi = [0]"
   ]
  },
  {
   "cell_type": "code",
   "execution_count": 162,
   "id": "a476b9f9-486a-4b43-9f0f-9c6c38eed7d9",
   "metadata": {
    "scrolled": true
   },
   "outputs": [],
   "source": [
    "for i in range(25000):\n",
    "\n",
    "    # minibatch\n",
    "    ix = torch.randint(0, Xtr.shape[0], (32, ))\n",
    "    \n",
    "    # forward pass\n",
    "    emb = C[Xtr[ix]]\n",
    "    h = torch.tanh(emb.view(-1, 30) @ W1 + b1)\n",
    "    logits = h @ W2 + b2\n",
    "    loss = F.cross_entropy(logits, Ytr[ix])\n",
    "\n",
    "    # backward pass\n",
    "    for p in parameters:\n",
    "        p.grad = None\n",
    "    loss.backward()\n",
    "\n",
    "    lr = 0.01\n",
    "    for p in parameters:\n",
    "        p.data -= lr * p.grad\n",
    "\n",
    "    stepi.append(stepi[-1]+1)\n",
    "    lossi.append(loss.log10().item())\n",
    "\n",
    "# print(loss.item())"
   ]
  },
  {
   "cell_type": "code",
   "execution_count": 163,
   "id": "ecdb3855-e6aa-403b-829d-d5ade3ce6e24",
   "metadata": {},
   "outputs": [
    {
     "data": {
      "text/plain": [
       "[<matplotlib.lines.Line2D at 0x73d65834be00>]"
      ]
     },
     "execution_count": 163,
     "metadata": {},
     "output_type": "execute_result"
    },
    {
     "data": {
      "image/png": "[encoded data removed]",
      "text/plain": [
       "<Figure size 640x480 with 1 Axes>"
      ]
     },
     "metadata": {},
     "output_type": "display_data"
    }
   ],
   "source": [
    "plt.plot(stepi[1:], lossi)"
   ]
  },
  {
   "cell_type": "code",
   "execution_count": 164,
   "id": "eb1c2c30-302c-4a7e-a4b2-93830ccaba7c",
   "metadata": {},
   "outputs": [
    {
     "name": "stdout",
     "output_type": "stream",
     "text": [
      "2.129706621170044\n"
     ]
    }
   ],
   "source": [
    "with torch.no_grad():\n",
    "    emb = C[Xtr]\n",
    "    h = torch.tanh(emb.view(-1, 30) @ W1 + b1)\n",
    "    logits = h @ W2 + b2\n",
    "    loss = F.cross_entropy(logits, Ytr)\n",
    "    print(loss.item())"
   ]
  },
  {
   "cell_type": "code",
   "execution_count": 165,
   "id": "27e538ea-93da-4050-84f5-8cbdae4671c9",
   "metadata": {},
   "outputs": [
    {
     "name": "stdout",
     "output_type": "stream",
     "text": [
      "2.179611921310425\n"
     ]
    }
   ],
   "source": [
    "with torch.no_grad():\n",
    "    emb = C[Xdev]\n",
    "    h = torch.tanh(emb.view(-1, 30) @ W1 + b1)\n",
    "    logits = h @ W2 + b2\n",
    "    loss = F.cross_entropy(logits, Ydev)\n",
    "    print(loss.item())"
   ]
  },
  {
   "cell_type": "code",
   "execution_count": null,
   "id": "0b02dec1-e3c5-4750-8117-4aaa3d6f9e60",
   "metadata": {},
   "outputs": [],
   "source": []
  },
  {
   "cell_type": "code",
   "execution_count": null,
   "id": "b87a1b11-0b1d-4c9c-a601-e063f92de179",
   "metadata": {},
   "outputs": [],
   "source": []
  },
  {
   "cell_type": "code",
   "execution_count": 204,
   "id": "55276364-dc6a-436b-8c52-2587dd1e3140",
   "metadata": {},
   "outputs": [
    {
     "data": {
      "image/png": "[encoded data removed]",
      "text/plain": [
       "<Figure size 800x800 with 1 Axes>"
      ]
     },
     "metadata": {},
     "output_type": "display_data"
    }
   ],
   "source": [
    "plt.figure(figsize=(8, 8))\n",
    "plt.scatter(C[:, 0].data, C[:, 1].data, s=200)\n",
    "for i in range(C.shape[0]):\n",
    "    plt.text(C[i, 0].item(), C[i, 1].item(), itos[i], ha=\"center\", va=\"center\", color=\"white\")\n",
    "plt.grid(\"minor\")"
   ]
  },
  {
   "cell_type": "code",
   "execution_count": null,
   "id": "a0c4c745-cf59-404a-a076-3b6598291235",
   "metadata": {},
   "outputs": [],
   "source": []
  }
 ],
 "metadata": {
  "kernelspec": {
   "display_name": "Python 3 (ipykernel)",
   "language": "python",
   "name": "python3"
  },
  "language_info": {
   "codemirror_mode": {
    "name": "ipython",
    "version": 3
   },
   "file_extension": ".py",
   "mimetype": "text/x-python",
   "name": "python",
   "nbconvert_exporter": "python",
   "pygments_lexer": "ipython3",
   "version": "3.12.4"
  }
 },
 "nbformat": 4,
 "nbformat_minor": 5
}
