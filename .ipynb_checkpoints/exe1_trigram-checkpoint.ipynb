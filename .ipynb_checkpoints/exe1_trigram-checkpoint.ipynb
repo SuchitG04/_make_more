{
 "cells": [
  {
   "cell_type": "code",
   "execution_count": 1,
   "metadata": {},
   "outputs": [],
   "source": [
    "import torch\n",
    "import matplotlib.pyplot as plt\n",
    "%matplotlib inline"
   ]
  },
  {
   "cell_type": "code",
   "execution_count": 2,
   "metadata": {},
   "outputs": [],
   "source": [
    "words = open(\"./names.txt\", 'r').read().splitlines()"
   ]
  },
  {
   "cell_type": "code",
   "execution_count": 3,
   "metadata": {},
   "outputs": [
    {
     "data": {
      "text/plain": [
       "['emma', 'olivia', 'ava', 'isabella']"
      ]
     },
     "execution_count": 3,
     "metadata": {},
     "output_type": "execute_result"
    }
   ],
   "source": [
    "words[:4]"
   ]
  },
  {
   "cell_type": "code",
   "execution_count": 4,
   "metadata": {},
   "outputs": [],
   "source": [
    "chars = sorted(list(set(''.join(words))))\n",
    "stoi = {s:i+1 for i,s in enumerate(chars)}\n",
    "stoi['.'] = 0\n",
    "itos = {i:s for s,i in stoi.items()}"
   ]
  },
  {
   "cell_type": "code",
   "execution_count": 5,
   "metadata": {},
   "outputs": [
    {
     "data": {
      "text/plain": [
       "(5, 'pq')"
      ]
     },
     "execution_count": 5,
     "metadata": {},
     "output_type": "execute_result"
    }
   ],
   "source": [
    "two_chars = set()\n",
    "for c1 in chars+[\".\"]:\n",
    "  for c2 in chars+[\".\"]:\n",
    "    two_chars.add(c1+c2)\n",
    "\n",
    "two_chars = sorted(list(two_chars))\n",
    "\n",
    "stoi2 = {s:i for i,s in enumerate(two_chars)}\n",
    "itos2 = {i:s for i,s in enumerate(two_chars)}\n",
    "stoi2['.e'], itos2[449]"
   ]
  },
  {
   "cell_type": "code",
   "execution_count": 6,
   "metadata": {},
   "outputs": [],
   "source": [
    "N = torch.zeros((729, 27), dtype=torch.int32)"
   ]
  },
  {
   "cell_type": "code",
   "execution_count": 7,
   "metadata": {},
   "outputs": [],
   "source": [
    "# model smoothing\n",
    "N += 1"
   ]
  },
  {
   "cell_type": "code",
   "execution_count": 8,
   "metadata": {},
   "outputs": [],
   "source": [
    "for w in words:\n",
    "  chs = [\".\"] + list(w) + [\".\"]\n",
    "  for ch1,ch2,ch3 in zip(chs, chs[1:], chs[2:]):\n",
    "    ix1 = stoi2[ch1+ch2]\n",
    "    ix2 = stoi[ch3]\n",
    "    N[ix1, ix2] += 1"
   ]
  },
  {
   "cell_type": "code",
   "execution_count": 9,
   "metadata": {},
   "outputs": [],
   "source": [
    "p = N[1]\n",
    "p = p / p.sum()"
   ]
  },
  {
   "cell_type": "code",
   "execution_count": 10,
   "metadata": {},
   "outputs": [
    {
     "data": {
      "text/plain": [
       "tensor([0.0002, 0.0469, 0.0430, 0.0072, 0.0827, 0.0126, 0.0050, 0.0041, 0.0207,\n",
       "        0.0349, 0.0063, 0.0171, 0.1427, 0.0868, 0.1406, 0.0025, 0.0041, 0.0023,\n",
       "        0.1089, 0.0439, 0.0165, 0.0345, 0.0550, 0.0016, 0.0063, 0.0392, 0.0345])"
      ]
     },
     "execution_count": 10,
     "metadata": {},
     "output_type": "execute_result"
    }
   ],
   "source": [
    "p"
   ]
  },
  {
   "cell_type": "code",
   "execution_count": 11,
   "metadata": {},
   "outputs": [
    {
     "data": {
      "text/plain": [
       "tensor([12])"
      ]
     },
     "execution_count": 11,
     "metadata": {},
     "output_type": "execute_result"
    }
   ],
   "source": [
    "g = torch.Generator().manual_seed(2147483647)\n",
    "torch.multinomial(p, num_samples=1, generator=g)"
   ]
  },
  {
   "cell_type": "code",
   "execution_count": 12,
   "metadata": {},
   "outputs": [],
   "source": [
    "P = N.float()\n",
    "P /= P.sum(1, keepdim=True)"
   ]
  },
  {
   "cell_type": "code",
   "execution_count": 13,
   "metadata": {},
   "outputs": [
    {
     "name": "stdout",
     "output_type": "stream",
     "text": [
      ".luwjde.\n",
      ".ilyasid.\n",
      ".ulexay.\n",
      ".adin.\n",
      ".vairritoper.\n",
      ".maree.\n",
      ".viameiaurinileniassibduinrwin.\n",
      ".lessiyanaylarte.\n",
      ".unviumthyfortumj.\n",
      ".nonn.\n",
      ".lenarsani.\n",
      ".rose.\n",
      ".yae.\n",
      ".rontadaabdinerimouis.\n",
      ".yavi.\n",
      ".anaasnhavi.\n",
      ".monszxhddion.\n",
      ".mandavic.\n",
      ".le.\n",
      ".nann.\n",
      ".rhatin.\n",
      ".norri.\n",
      ".ish.\n",
      ".ubri.\n",
      ".mjeaurickivinayalevav.\n",
      ".miarr.\n",
      ".yen.\n",
      ".nadortan.\n",
      ".laylabel.\n",
      ".hugi.\n",
      ".lavadoni.\n",
      ".zhamirayarath.\n",
      ".bandam.\n",
      ".leessitikiyaalee.\n",
      ".mallen.\n",
      ".lo.\n",
      ".fabethellianten.\n",
      ".naxteuralodridyden.\n",
      ".nialiypvrgiaitazrwauriabiyah.\n",
      ".elvavion.\n",
      ".himah.\n",
      ".urik.\n",
      ".mil.\n",
      ".norinobon.\n",
      ".uli.\n",
      ".naiyaxtenn.\n",
      ".scadwfdadric.\n",
      ".remyleessianner.\n",
      ".sadoman.\n",
      ".kyroderihanazzidab.\n"
     ]
    }
   ],
   "source": [
    "g = torch.Generator().manual_seed(2147483647)\n",
    "for _ in range(50):\n",
    "  ix = 1\n",
    "  out = [\".\"]\n",
    "  while True:\n",
    "    if ix != 1:\n",
    "      ix = stoi2[''.join(out[-2:])]\n",
    "    p = P[ix]\n",
    "    ix = torch.multinomial(p, num_samples=1, generator=g).item()\n",
    "    out.append(itos[ix])\n",
    "    if out[-1][-1] == \".\":\n",
    "      break\n",
    "  \n",
    "  print(''.join(out))"
   ]
  },
  {
   "cell_type": "code",
   "execution_count": 37,
   "metadata": {},
   "outputs": [
    {
     "name": "stdout",
     "output_type": "stream",
     "text": [
      "nll=tensor(410414.9688)\n",
      "nll/n=tensor(2.0927)\n"
     ]
    }
   ],
   "source": [
    "n = 0\n",
    "log_likelihood = 0.0\n",
    "for w in words:\n",
    "  chs = [\".\"] + list(w) + [\".\"]\n",
    "  for ch1,ch2,ch3 in zip(chs, chs[1:], chs[2:]):\n",
    "    ix1 = stoi2[ch1+ch2]\n",
    "    ix2 = stoi[ch3]\n",
    "    prob = P[ix1, ix2]\n",
    "    logprob = torch.log(prob)\n",
    "    log_likelihood += logprob\n",
    "    n += 1\n",
    "    # print(f\"{ch1+ch2} {ch3}: {prob:.4f} {-logprob:.4f}\")\n",
    "\n",
    "nll = -log_likelihood\n",
    "print(f\"{nll=}\")\n",
    "print(f\"{nll/n=}\")"
   ]
  },
  {
   "cell_type": "markdown",
   "metadata": {},
   "source": [
    "The loss has definitely decreased compared to the bigram model"
   ]
  },
  {
   "cell_type": "markdown",
   "metadata": {},
   "source": []
  }
 ],
 "metadata": {
  "kernelspec": {
   "display_name": "andrej_nn",
   "language": "python",
   "name": "python3"
  },
  "language_info": {
   "codemirror_mode": {
    "name": "ipython",
    "version": 3
   },
   "file_extension": ".py",
   "mimetype": "text/x-python",
   "name": "python",
   "nbconvert_exporter": "python",
   "pygments_lexer": "ipython3",
   "version": "3.11.6"
  }
 },
 "nbformat": 4,
 "nbformat_minor": 2
}
