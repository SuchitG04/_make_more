{
 "cells": [
  {
   "cell_type": "code",
   "execution_count": 1,
   "id": "11c02304-0ae9-481b-a981-e36f83510f7f",
   "metadata": {},
   "outputs": [],
   "source": [
    "import torch\n",
    "import torch.nn as nn\n",
    "import torch.nn.functional as F"
   ]
  },
  {
   "cell_type": "code",
   "execution_count": 2,
   "id": "feb07abe-371d-479a-b0c3-737593f41f5b",
   "metadata": {},
   "outputs": [],
   "source": [
    "from fastcore.foundation import *\n",
    "from fastcore.basics import *"
   ]
  },
  {
   "cell_type": "code",
   "execution_count": 3,
   "id": "3a79eab0-5500-47c9-9d04-d730c31352ea",
   "metadata": {},
   "outputs": [
    {
     "data": {
      "text/plain": [
       "11"
      ]
     },
     "execution_count": 3,
     "metadata": {},
     "output_type": "execute_result"
    }
   ],
   "source": [
    "nums = sorted(list(range(11)))\n",
    "vocab_sz = len(nums)\n",
    "vocab_sz"
   ]
  },
  {
   "cell_type": "code",
   "execution_count": 4,
   "id": "3d2aac2a-eeb1-498f-8aca-0b24fe2a75e6",
   "metadata": {},
   "outputs": [
    {
     "data": {
      "text/plain": [
       "[0, 1, 2, 3, 4, 5, 6, 7, 8, 9, 10]"
      ]
     },
     "execution_count": 4,
     "metadata": {},
     "output_type": "execute_result"
    }
   ],
   "source": [
    "nums"
   ]
  },
  {
   "cell_type": "code",
   "execution_count": 55,
   "id": "5c1884d1-77ef-4cc7-97f1-664680e3f6a0",
   "metadata": {},
   "outputs": [],
   "source": [
    "itos = {k:str(v) if k!=10 else '.' for k,v in enumerate(nums)}\n",
    "stoi = {v:k for k,v in itos.items()}"
   ]
  },
  {
   "cell_type": "code",
   "execution_count": 56,
   "id": "8667f3a4-c428-446d-a0ed-888f9eaab031",
   "metadata": {
    "scrolled": true
   },
   "outputs": [
    {
     "data": {
      "text/plain": [
       "({0: '0',\n",
       "  1: '1',\n",
       "  2: '2',\n",
       "  3: '3',\n",
       "  4: '4',\n",
       "  5: '5',\n",
       "  6: '6',\n",
       "  7: '7',\n",
       "  8: '8',\n",
       "  9: '9',\n",
       "  10: '.'},\n",
       " {'0': 0,\n",
       "  '1': 1,\n",
       "  '2': 2,\n",
       "  '3': 3,\n",
       "  '4': 4,\n",
       "  '5': 5,\n",
       "  '6': 6,\n",
       "  '7': 7,\n",
       "  '8': 8,\n",
       "  '9': 9,\n",
       "  '.': 10})"
      ]
     },
     "execution_count": 56,
     "metadata": {},
     "output_type": "execute_result"
    }
   ],
   "source": [
    "itos, stoi"
   ]
  },
  {
   "cell_type": "code",
   "execution_count": 48,
   "id": "91d328f9-0abc-4b75-9e7d-564030e22aa2",
   "metadata": {},
   "outputs": [
    {
     "data": {
      "text/plain": [
       "((['5', '4'], '9.'), (['4', '6'], '01.'), (['3', '1'], '4.'))"
      ]
     },
     "execution_count": 48,
     "metadata": {},
     "output_type": "execute_result"
    }
   ],
   "source": [
    "class Dataset:\n",
    "    def __init__(self, n):\n",
    "        self.x, self.y = [], []\n",
    "        self._generate(n)\n",
    "        \n",
    "    def __len__(self): return len(self.x)\n",
    "    def __getitem__(self, i):\n",
    "        if not self.x or not self.y: raise ValueError(\"Dataset not populated.\")\n",
    "        else: return self.x[i], self.y[i]\n",
    "\n",
    "    def _get_data_pt(self):\n",
    "        a, b = torch.randint(0, 9, (1, )), torch.randint(0, 9, (1, ))\n",
    "        c = (a+b).item()\n",
    "        c = ''.join(list(reversed(str(c))))\n",
    "        return str(a.item()), str(b.item()), c\n",
    "    \n",
    "    def _generate(self, n):\n",
    "        for _ in range(n):\n",
    "            a, b, c = self._get_data_pt()\n",
    "            self.x.append([a, b])\n",
    "            self.y.append(c+'.')\n",
    "\n",
    "ds = Dataset(10)\n",
    "ds[0], ds[1], ds[9]"
   ]
  },
  {
   "cell_type": "code",
   "execution_count": 7,
   "id": "fb727ce6-9152-46c4-b3f0-520005ea9161",
   "metadata": {},
   "outputs": [],
   "source": [
    "class DataLoader:\n",
    "    def __init__(self, ds, bs): self.ds, self.bs = ds, bs\n",
    "    def __iter__(self):\n",
    "        for i in range(0, len(self.ds), self.bs): yield self.ds[i:min(i+self.bs, len(self.ds))]\n",
    "\n",
    "dl = DataLoader(ds, 5)"
   ]
  },
  {
   "cell_type": "code",
   "execution_count": 8,
   "id": "a3c32a39-388c-48f4-9285-a080c86d37ac",
   "metadata": {},
   "outputs": [
    {
     "name": "stdout",
     "output_type": "stream",
     "text": [
      "([['0', '6'], ['8', '3'], ['7', '4'], ['1', '8'], ['8', '1']], ['6.', '11.', '11.', '9.', '9.'])\n",
      "([['4', '3'], ['3', '0'], ['8', '0'], ['1', '4'], ['8', '8']], ['7.', '3.', '8.', '5.', '61.'])\n"
     ]
    }
   ],
   "source": [
    "for i in dl:\n",
    "    print(i)"
   ]
  },
  {
   "cell_type": "code",
   "execution_count": 10,
   "id": "91bc74c1-e6b8-43f9-b827-30049f1702c1",
   "metadata": {},
   "outputs": [],
   "source": [
    "n_embd = 4\n",
    "vocab_sz = len(nums)\n",
    "# a -- 1 digit\n",
    "# b -- 1 digit\n",
    "# c -- 1 or 2 digits\n",
    "# total -- 4 digits at max.\n",
    "blk_sz = 4"
   ]
  },
  {
   "cell_type": "markdown",
   "id": "6f2f68ad-80dd-4e1d-bdd4-2bda4c400da3",
   "metadata": {},
   "source": [
    "Let's first do this for a single value of `x` (input). `x` is going to be a number (which is an index by default)."
   ]
  },
  {
   "cell_type": "code",
   "execution_count": 19,
   "id": "608da0fd-ad89-4c8d-bc2a-1f7d53ae77b3",
   "metadata": {},
   "outputs": [],
   "source": [
    "class AddGPT(nn.Module):\n",
    "    def __init__(self):\n",
    "        super().__init__()\n",
    "        self.token_emb_table = nn.Embedding(vocab_sz, n_embd)\n",
    "\n",
    "    def forward(self, x):\n",
    "        tok_emb = self.token_emb_table(x)\n",
    "        return tok_emb"
   ]
  },
  {
   "cell_type": "code",
   "execution_count": 20,
   "id": "ed6d5ef7-8444-4aac-8a8c-27643b75d0b1",
   "metadata": {},
   "outputs": [
    {
     "name": "stdout",
     "output_type": "stream",
     "text": [
      "tensor([ 0.3936,  0.9701,  1.4304, -1.7162])\n"
     ]
    }
   ],
   "source": [
    "m = AddGPT()\n",
    "with torch.no_grad():\n",
    "    print(m(torch.tensor(1)))"
   ]
  },
  {
   "cell_type": "code",
   "execution_count": 21,
   "id": "1710a14f-097a-42ab-a0d1-a33a5ff29392",
   "metadata": {},
   "outputs": [],
   "source": [
    "class AddGPT(nn.Module):\n",
    "    def __init__(self):\n",
    "        super().__init__()\n",
    "        self.token_emb_table = nn.Embedding(vocab_sz, n_embd)\n",
    "\n",
    "        self.lin = nn.Linear(n_embd, vocab_sz, bias=True)\n",
    "\n",
    "    def forward(self, x):\n",
    "        x = self.token_emb_table(x)\n",
    "        return self.lin(x)"
   ]
  },
  {
   "cell_type": "code",
   "execution_count": 22,
   "id": "ac4e15a5-98d8-40cd-a412-0d3631031d69",
   "metadata": {},
   "outputs": [
    {
     "name": "stdout",
     "output_type": "stream",
     "text": [
      "tensor([-0.8578, -0.2719, -0.3655,  0.6103, -1.0027,  0.3438, -0.2427,  1.9421,\n",
      "        -0.1216,  0.2218, -2.0088])\n",
      "torch.Size([11])\n"
     ]
    }
   ],
   "source": [
    "m = AddGPT()\n",
    "with torch.no_grad():\n",
    "    out = m(torch.tensor(1))\n",
    "    print(out)\n",
    "    print(out.shape)"
   ]
  },
  {
   "cell_type": "markdown",
   "id": "eb36db92-641b-477a-b7ab-81308918bd96",
   "metadata": {},
   "source": [
    "The model is currently taking a single number. \n",
    "For the first iteration let's train it such that it takes two single digit numbers and outputs their sum (could be single or double digit)."
   ]
  },
  {
   "cell_type": "code",
   "execution_count": 78,
   "id": "014fefff-632e-40da-9179-a1192380ab94",
   "metadata": {},
   "outputs": [],
   "source": [
    "class AddGPT(nn.Module):\n",
    "    def __init__(self):\n",
    "        super().__init__()\n",
    "        self.token_emb_table = nn.Embedding(vocab_sz, n_embd)\n",
    "        self.lin = nn.Linear(n_embd*blk_sz, vocab_sz, bias=True)\n",
    "\n",
    "    def forward(self, x):\n",
    "        x = self.token_emb_table(x).view(-1) # (blk_sz, n_embd) --> (blk_sz*n_embd)\n",
    "        logits = self.lin(x)\n",
    "        return logits"
   ]
  },
  {
   "cell_type": "code",
   "execution_count": 79,
   "id": "09f0053e-2ea5-4979-84e9-f1ab922390bb",
   "metadata": {},
   "outputs": [
    {
     "data": {
      "text/plain": [
       "tensor([[ 0.5157, -1.1904, -1.5497, -0.6826],\n",
       "        [-0.2860, -0.8758, -1.1548,  0.7698],\n",
       "        [-0.1997,  0.8676,  1.0987,  1.0616]], grad_fn=<EmbeddingBackward0>)"
      ]
     },
     "execution_count": 79,
     "metadata": {},
     "output_type": "execute_result"
    }
   ],
   "source": [
    "nn.Embedding(vocab_sz, n_embd)(torch.tensor([1,2,3]))"
   ]
  },
  {
   "cell_type": "code",
   "execution_count": 80,
   "id": "08c10293-d42b-4e75-af0f-bccb25e8a37c",
   "metadata": {},
   "outputs": [
    {
     "name": "stdout",
     "output_type": "stream",
     "text": [
      "tensor([ 1.1729, -0.4824, -0.2358, -0.8933,  0.0939,  0.2597,  0.0696,  0.1735,\n",
      "         0.1364,  0.4290,  0.0905])\n",
      "torch.Size([11])\n"
     ]
    }
   ],
   "source": [
    "m = AddGPT()\n",
    "with torch.no_grad():\n",
    "    out = m(torch.tensor([1, 1, 10, 10]))\n",
    "    print(out)\n",
    "    print(out.shape)"
   ]
  },
  {
   "cell_type": "markdown",
   "id": "56c35343-073a-4725-9d2a-0b3a90d4527b",
   "metadata": {},
   "source": [
    "Let's validate that this approach works by training this small neural net."
   ]
  },
  {
   "cell_type": "code",
   "execution_count": null,
   "id": "eed5eab9-d66e-49ac-9df1-d89401afe1de",
   "metadata": {},
   "outputs": [],
   "source": [
    "class AddGPT(nn.Module):\n",
    "    def __init__(self):\n",
    "        super().__init__()\n",
    "        self.token_emb_table = nn.Embedding(vocab_sz, n_embd)\n",
    "        self.lin = nn.Linear(n_embd*blk_sz, vocab_sz, bias=True)\n",
    "\n",
    "    def forward(self, x, target):\n",
    "        x = self.token_emb_table(x).view(-1) # (2, n_embd) --> (2*n_embd)\n",
    "        logits = self.lin(x)\n",
    "        loss = F.cross_entropy()\n",
    "        return logits"
   ]
  },
  {
   "cell_type": "code",
   "execution_count": null,
   "id": "9dabfe45-2116-49e7-ae00-0767a80180df",
   "metadata": {},
   "outputs": [],
   "source": []
  },
  {
   "cell_type": "code",
   "execution_count": null,
   "id": "1e4b8c29-2a56-40ca-9ec2-09e99a761084",
   "metadata": {},
   "outputs": [],
   "source": []
  }
 ],
 "metadata": {
  "kernelspec": {
   "display_name": "Python 3 (ipykernel)",
   "language": "python",
   "name": "python3"
  },
  "language_info": {
   "codemirror_mode": {
    "name": "ipython",
    "version": 3
   },
   "file_extension": ".py",
   "mimetype": "text/x-python",
   "name": "python",
   "nbconvert_exporter": "python",
   "pygments_lexer": "ipython3",
   "version": "3.13.1"
  }
 },
 "nbformat": 4,
 "nbformat_minor": 5
}
