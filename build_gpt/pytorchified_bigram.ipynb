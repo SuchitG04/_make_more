{
 "cells": [
  {
   "cell_type": "code",
   "execution_count": 1,
   "id": "cc966c27-f281-4c5b-ad93-eaed59756b23",
   "metadata": {},
   "outputs": [],
   "source": [
    "import torch\n",
    "import torch.nn as nn\n",
    "import torch.nn.functional as F"
   ]
  },
  {
   "cell_type": "code",
   "execution_count": 2,
   "id": "6e460cab-ecfb-472f-ab2e-b3e1cb706bc1",
   "metadata": {},
   "outputs": [
    {
     "name": "stdout",
     "output_type": "stream",
     "text": [
      "--2024-12-25 20:05:47--  https://raw.githubusercontent.com/karpathy/char-rnn/master/data/tinyshakespeare/input.txt\n",
      "Loaded CA certificate '/etc/ssl/certs/ca-certificates.crt'\n",
      "185.199.109.133, 185.199.110.133, 185.199.111.133, ...tent.com)... \n",
      "Connecting to raw.githubusercontent.com (raw.githubusercontent.com)|185.199.109.133|:443... connected.\n",
      "200 OKequest sent, awaiting response... \n",
      "Length: 1115394 (1.1M) [text/plain]\n",
      "Saving to: ‘input.txt.3’\n",
      "\n",
      "input.txt.3         100%[===================>]   1.06M  2.37MB/s    in 0.4s    \n",
      "\n",
      "2024-12-25 20:05:48 (2.37 MB/s) - ‘input.txt.3’ saved [1115394/1115394]\n",
      "\n"
     ]
    }
   ],
   "source": [
    "!wget https://raw.githubusercontent.com/karpathy/char-rnn/master/data/tinyshakespeare/input.txt"
   ]
  },
  {
   "cell_type": "code",
   "execution_count": 3,
   "id": "5ab778c6-c709-45b1-a667-3c26f29d7e23",
   "metadata": {
    "scrolled": true
   },
   "outputs": [
    {
     "data": {
      "text/plain": [
       "'First Citizen:\\nBefore we proceed any further, hear me speak.\\n\\nAll:\\nSpeak, speak.\\n\\nFirst Citizen:\\nYou'"
      ]
     },
     "execution_count": 3,
     "metadata": {},
     "output_type": "execute_result"
    }
   ],
   "source": [
    "with open('./input.txt', 'r') as f:\n",
    "    text = f.read()\n",
    "text[:100]"
   ]
  },
  {
   "cell_type": "code",
   "execution_count": 4,
   "id": "88ddb5f0-d7f5-401c-b8ba-d4781061cbcd",
   "metadata": {},
   "outputs": [
    {
     "name": "stdout",
     "output_type": "stream",
     "text": [
      "\n",
      " !$&',-.3:;?ABCDEFGHIJKLMNOPQRSTUVWXYZabcdefghijklmnopqrstuvwxyz\n",
      "65\n"
     ]
    }
   ],
   "source": [
    "chars = sorted(list(set(text)))\n",
    "print(''.join(chars))\n",
    "vocab_sz = len(chars)\n",
    "print(vocab_sz)"
   ]
  },
  {
   "cell_type": "code",
   "execution_count": 5,
   "id": "f475e6c8-7182-4c93-86d1-043145a1375e",
   "metadata": {
    "scrolled": true
   },
   "outputs": [
    {
     "data": {
      "text/plain": [
       "{'\\n': 0,\n",
       " ' ': 1,\n",
       " '!': 2,\n",
       " '$': 3,\n",
       " '&': 4,\n",
       " \"'\": 5,\n",
       " ',': 6,\n",
       " '-': 7,\n",
       " '.': 8,\n",
       " '3': 9,\n",
       " ':': 10,\n",
       " ';': 11,\n",
       " '?': 12,\n",
       " 'A': 13,\n",
       " 'B': 14,\n",
       " 'C': 15,\n",
       " 'D': 16,\n",
       " 'E': 17,\n",
       " 'F': 18,\n",
       " 'G': 19,\n",
       " 'H': 20,\n",
       " 'I': 21,\n",
       " 'J': 22,\n",
       " 'K': 23,\n",
       " 'L': 24,\n",
       " 'M': 25,\n",
       " 'N': 26,\n",
       " 'O': 27,\n",
       " 'P': 28,\n",
       " 'Q': 29,\n",
       " 'R': 30,\n",
       " 'S': 31,\n",
       " 'T': 32,\n",
       " 'U': 33,\n",
       " 'V': 34,\n",
       " 'W': 35,\n",
       " 'X': 36,\n",
       " 'Y': 37,\n",
       " 'Z': 38,\n",
       " 'a': 39,\n",
       " 'b': 40,\n",
       " 'c': 41,\n",
       " 'd': 42,\n",
       " 'e': 43,\n",
       " 'f': 44,\n",
       " 'g': 45,\n",
       " 'h': 46,\n",
       " 'i': 47,\n",
       " 'j': 48,\n",
       " 'k': 49,\n",
       " 'l': 50,\n",
       " 'm': 51,\n",
       " 'n': 52,\n",
       " 'o': 53,\n",
       " 'p': 54,\n",
       " 'q': 55,\n",
       " 'r': 56,\n",
       " 's': 57,\n",
       " 't': 58,\n",
       " 'u': 59,\n",
       " 'v': 60,\n",
       " 'w': 61,\n",
       " 'x': 62,\n",
       " 'y': 63,\n",
       " 'z': 64}"
      ]
     },
     "execution_count": 5,
     "metadata": {},
     "output_type": "execute_result"
    }
   ],
   "source": [
    "stoi = {s:i for i,s in enumerate(chars)}\n",
    "stoi"
   ]
  },
  {
   "cell_type": "code",
   "execution_count": 6,
   "id": "c7c2fc4b-bd1a-4e01-9e3c-2ab81feea1f6",
   "metadata": {
    "scrolled": true
   },
   "outputs": [
    {
     "data": {
      "text/plain": [
       "{0: '\\n',\n",
       " 1: ' ',\n",
       " 2: '!',\n",
       " 3: '$',\n",
       " 4: '&',\n",
       " 5: \"'\",\n",
       " 6: ',',\n",
       " 7: '-',\n",
       " 8: '.',\n",
       " 9: '3',\n",
       " 10: ':',\n",
       " 11: ';',\n",
       " 12: '?',\n",
       " 13: 'A',\n",
       " 14: 'B',\n",
       " 15: 'C',\n",
       " 16: 'D',\n",
       " 17: 'E',\n",
       " 18: 'F',\n",
       " 19: 'G',\n",
       " 20: 'H',\n",
       " 21: 'I',\n",
       " 22: 'J',\n",
       " 23: 'K',\n",
       " 24: 'L',\n",
       " 25: 'M',\n",
       " 26: 'N',\n",
       " 27: 'O',\n",
       " 28: 'P',\n",
       " 29: 'Q',\n",
       " 30: 'R',\n",
       " 31: 'S',\n",
       " 32: 'T',\n",
       " 33: 'U',\n",
       " 34: 'V',\n",
       " 35: 'W',\n",
       " 36: 'X',\n",
       " 37: 'Y',\n",
       " 38: 'Z',\n",
       " 39: 'a',\n",
       " 40: 'b',\n",
       " 41: 'c',\n",
       " 42: 'd',\n",
       " 43: 'e',\n",
       " 44: 'f',\n",
       " 45: 'g',\n",
       " 46: 'h',\n",
       " 47: 'i',\n",
       " 48: 'j',\n",
       " 49: 'k',\n",
       " 50: 'l',\n",
       " 51: 'm',\n",
       " 52: 'n',\n",
       " 53: 'o',\n",
       " 54: 'p',\n",
       " 55: 'q',\n",
       " 56: 'r',\n",
       " 57: 's',\n",
       " 58: 't',\n",
       " 59: 'u',\n",
       " 60: 'v',\n",
       " 61: 'w',\n",
       " 62: 'x',\n",
       " 63: 'y',\n",
       " 64: 'z'}"
      ]
     },
     "execution_count": 6,
     "metadata": {},
     "output_type": "execute_result"
    }
   ],
   "source": [
    "itos = {i:s for i,s in enumerate(chars)}\n",
    "itos"
   ]
  },
  {
   "cell_type": "code",
   "execution_count": 7,
   "id": "77a92522-59aa-44c7-8c15-ee25ec23bedd",
   "metadata": {},
   "outputs": [
    {
     "data": {
      "text/plain": [
       "[46, 47, 1, 58, 46, 43, 56, 43, 2]"
      ]
     },
     "execution_count": 7,
     "metadata": {},
     "output_type": "execute_result"
    }
   ],
   "source": [
    "encode = lambda x: [stoi[o] for o in x]\n",
    "e = encode(\"hi there!\")\n",
    "e"
   ]
  },
  {
   "cell_type": "code",
   "execution_count": 8,
   "id": "e3be8fd9-4d44-4bdf-b9fa-8cb008dcc056",
   "metadata": {},
   "outputs": [
    {
     "data": {
      "text/plain": [
       "'hi there!'"
      ]
     },
     "execution_count": 8,
     "metadata": {},
     "output_type": "execute_result"
    }
   ],
   "source": [
    "decode = lambda x: ''.join([itos[o] for o in x])\n",
    "d = decode(e)\n",
    "''.join(d)"
   ]
  },
  {
   "cell_type": "code",
   "execution_count": 9,
   "id": "47628bf3-4981-4588-9206-28245c7f319b",
   "metadata": {},
   "outputs": [
    {
     "name": "stdout",
     "output_type": "stream",
     "text": [
      "torch.Size([1115394])\n",
      "tensor([18, 47, 56, 57, 58,  1, 15, 47, 58, 47, 64, 43, 52, 10,  0, 14, 43, 44,\n",
      "        53, 56, 43,  1, 61, 43,  1, 54, 56, 53, 41, 43, 43, 42,  1, 39, 52, 63,\n",
      "         1, 44, 59, 56, 58, 46, 43, 56,  6,  1, 46, 43, 39, 56,  1, 51, 43,  1,\n",
      "        57, 54, 43, 39, 49,  8,  0,  0, 13, 50, 50, 10,  0, 31, 54, 43, 39, 49,\n",
      "         6,  1, 57, 54, 43, 39, 49,  8,  0,  0, 18, 47, 56, 57, 58,  1, 15, 47,\n",
      "        58, 47, 64, 43, 52, 10,  0, 37, 53, 59])\n"
     ]
    }
   ],
   "source": [
    "data = torch.tensor(encode(text), dtype=torch.long)\n",
    "print(data.shape)\n",
    "print(data[:100])"
   ]
  },
  {
   "cell_type": "code",
   "execution_count": 10,
   "id": "aac35524-7b09-4256-acac-02b56af01070",
   "metadata": {},
   "outputs": [
    {
     "data": {
      "text/plain": [
       "(torch.Size([1003854]), torch.Size([111540]))"
      ]
     },
     "execution_count": 10,
     "metadata": {},
     "output_type": "execute_result"
    }
   ],
   "source": [
    "n = int(len(data) * 0.9)\n",
    "trn_data = data[:n]\n",
    "val_data = data[n:]\n",
    "trn_data.shape, val_data.shape"
   ]
  },
  {
   "cell_type": "code",
   "execution_count": 11,
   "id": "762d725a-b18f-4519-91e8-0b60a4263ac1",
   "metadata": {},
   "outputs": [
    {
     "data": {
      "text/plain": [
       "tensor([18, 47, 56, 57, 58,  1, 15, 47, 58])"
      ]
     },
     "execution_count": 11,
     "metadata": {},
     "output_type": "execute_result"
    }
   ],
   "source": [
    "blk_sz = 8\n",
    "trn_data[:blk_sz+1]"
   ]
  },
  {
   "cell_type": "code",
   "execution_count": 12,
   "id": "47114b64-0763-402a-aa7f-6c8773616812",
   "metadata": {},
   "outputs": [
    {
     "data": {
      "text/plain": [
       "(tensor([18, 47, 56, 57, 58,  1, 15, 47]),\n",
       " tensor([47, 56, 57, 58,  1, 15, 47, 58]))"
      ]
     },
     "execution_count": 12,
     "metadata": {},
     "output_type": "execute_result"
    }
   ],
   "source": [
    "x = trn_data[:blk_sz]\n",
    "y = trn_data[1:blk_sz+1]\n",
    "x,y"
   ]
  },
  {
   "cell_type": "code",
   "execution_count": 13,
   "id": "146dc926-eac6-4be0-8a05-0cf7799cb931",
   "metadata": {},
   "outputs": [
    {
     "data": {
      "text/plain": [
       "tensor([ 2.1326, -0.0953,  0.3679, -0.5028])"
      ]
     },
     "execution_count": 13,
     "metadata": {},
     "output_type": "execute_result"
    }
   ],
   "source": [
    "t = torch.randn((4, ))\n",
    "t"
   ]
  },
  {
   "cell_type": "code",
   "execution_count": 14,
   "id": "1ce23a11-a205-4c55-9c8c-af461fd9b55d",
   "metadata": {},
   "outputs": [
    {
     "name": "stdout",
     "output_type": "stream",
     "text": [
      "Input: tensor([18]); Target: 47\n",
      "Input: tensor([18, 47]); Target: 56\n",
      "Input: tensor([18, 47, 56]); Target: 57\n",
      "Input: tensor([18, 47, 56, 57]); Target: 58\n",
      "Input: tensor([18, 47, 56, 57, 58]); Target: 1\n",
      "Input: tensor([18, 47, 56, 57, 58,  1]); Target: 15\n",
      "Input: tensor([18, 47, 56, 57, 58,  1, 15]); Target: 47\n",
      "Input: tensor([18, 47, 56, 57, 58,  1, 15, 47]); Target: 58\n"
     ]
    }
   ],
   "source": [
    "for t in range(blk_sz):\n",
    "    ctx = x[:t+1]\n",
    "    tgt = y[t]\n",
    "    print(f\"Input: {ctx}; Target: {tgt}\")"
   ]
  },
  {
   "cell_type": "code",
   "execution_count": 15,
   "id": "21ad6b72-342f-4b6c-86df-c6c3867929e8",
   "metadata": {},
   "outputs": [
    {
     "data": {
      "text/plain": [
       "tensor([1078327,  453969,   41646,  671252])"
      ]
     },
     "execution_count": 15,
     "metadata": {},
     "output_type": "execute_result"
    }
   ],
   "source": [
    "torch.manual_seed(1337)\n",
    "batch_sz = 4\n",
    "blk_sz = 8\n",
    "ix = torch.randint(len(data) - blk_sz, (batch_sz, ))\n",
    "ix"
   ]
  },
  {
   "cell_type": "code",
   "execution_count": 16,
   "id": "015cb66d-e5c7-4848-ace5-234e0f1346c5",
   "metadata": {},
   "outputs": [
    {
     "data": {
      "text/plain": [
       "(tensor([59, 52, 49, 47, 52, 42,  1, 40]), 'unkind b')"
      ]
     },
     "execution_count": 16,
     "metadata": {},
     "output_type": "execute_result"
    }
   ],
   "source": [
    "i = ix[0]\n",
    "data[i:i+blk_sz], decode(data[i:i+blk_sz].tolist())"
   ]
  },
  {
   "cell_type": "code",
   "execution_count": 17,
   "id": "a1bdc3a9-7f5b-4b65-8ad5-3e4a5a304bc8",
   "metadata": {},
   "outputs": [
    {
     "data": {
      "text/plain": [
       "[tensor([59, 52, 49, 47, 52, 42,  1, 40]),\n",
       " tensor([53, 54, 43, 44, 59, 50,  1, 50]),\n",
       " tensor([27, 24, 33, 25, 26, 21, 13, 10]),\n",
       " tensor([47, 41, 43,  1, 53, 60, 43, 56])]"
      ]
     },
     "execution_count": 17,
     "metadata": {},
     "output_type": "execute_result"
    }
   ],
   "source": [
    "[data[i:i+blk_sz] for i in ix]"
   ]
  },
  {
   "cell_type": "code",
   "execution_count": 18,
   "id": "b9ab319e-ac8c-49d1-a9e5-bd3875f72b2c",
   "metadata": {},
   "outputs": [
    {
     "name": "stdout",
     "output_type": "stream",
     "text": [
      "['unkind b', 'opeful l', 'OLUMNIA:', 'ice over']\n"
     ]
    },
    {
     "data": {
      "text/plain": [
       "(tensor([[59, 52, 49, 47, 52, 42,  1, 40],\n",
       "         [53, 54, 43, 44, 59, 50,  1, 50],\n",
       "         [27, 24, 33, 25, 26, 21, 13, 10],\n",
       "         [47, 41, 43,  1, 53, 60, 43, 56]]),\n",
       " torch.Size([4, 8]))"
      ]
     },
     "execution_count": 18,
     "metadata": {},
     "output_type": "execute_result"
    }
   ],
   "source": [
    "xbs = [data[i:i+blk_sz] for i in ix]\n",
    "print([decode(x.tolist()) for x in xbs])\n",
    "\n",
    "xbs = torch.stack(xbs)\n",
    "xbs, xbs.shape # B, T"
   ]
  },
  {
   "cell_type": "code",
   "execution_count": 19,
   "id": "6a9625d0-5266-4c6f-9c85-a0e8b4a74dc1",
   "metadata": {},
   "outputs": [
    {
     "name": "stdout",
     "output_type": "stream",
     "text": [
      "['nkind br', 'peful la', 'LUMNIA:\\n', 'ce overt']\n"
     ]
    },
    {
     "data": {
      "text/plain": [
       "(tensor([[52, 49, 47, 52, 42,  1, 40, 56],\n",
       "         [54, 43, 44, 59, 50,  1, 50, 39],\n",
       "         [24, 33, 25, 26, 21, 13, 10,  0],\n",
       "         [41, 43,  1, 53, 60, 43, 56, 58]]),\n",
       " torch.Size([4, 8]))"
      ]
     },
     "execution_count": 19,
     "metadata": {},
     "output_type": "execute_result"
    }
   ],
   "source": [
    "ybs = [data[i+1:i+blk_sz+1] for i in ix]\n",
    "print([decode(y.tolist()) for y in ybs])\n",
    "\n",
    "ybs = torch.stack(ybs)\n",
    "ybs, ybs.shape # B, T"
   ]
  },
  {
   "cell_type": "code",
   "execution_count": 20,
   "id": "93f799cd-ef7d-4e70-90e5-d24479640e18",
   "metadata": {},
   "outputs": [
    {
     "data": {
      "text/plain": [
       "(torch.Size([4, 8]), torch.Size([4, 8]))"
      ]
     },
     "execution_count": 20,
     "metadata": {},
     "output_type": "execute_result"
    }
   ],
   "source": [
    "torch.manual_seed(1337)\n",
    "batch_sz = 4\n",
    "blk_sz = 8\n",
    "\n",
    "def get_batch(split):\n",
    "    data = trn_data if split == 'train' else val_data\n",
    "    ix = torch.randint(len(data) - blk_sz, (batch_sz, ))\n",
    "    x = torch.stack([data[i  : i+blk_sz  ] for i in ix])\n",
    "    y = torch.stack([data[i+1: i+blk_sz+1] for i in ix])\n",
    "    return x,y\n",
    "\n",
    "xb, yb = get_batch('train')\n",
    "xb.shape, yb.shape"
   ]
  },
  {
   "cell_type": "code",
   "execution_count": 21,
   "id": "4df27d6c-eadf-47c6-b777-f2e4e84b34c5",
   "metadata": {},
   "outputs": [
    {
     "name": "stdout",
     "output_type": "stream",
     "text": [
      "torch.Size([32, 65])\n",
      "tensor(4.8786, grad_fn=<NllLossBackward0>)\n"
     ]
    }
   ],
   "source": [
    "torch.manual_seed(1337)\n",
    "\n",
    "class BigramLanguageModel(nn.Module):\n",
    "    def __init__(self):\n",
    "        super().__init__()\n",
    "        self.tkn_emb_table = nn.Embedding(vocab_sz, vocab_sz)\n",
    "\n",
    "    def forward(self, idx, tgts=None):\n",
    "        logits = self.tkn_emb_table(idx) # B, T, C\n",
    "        # print(\"logits shape: \", logits.shape)\n",
    "        if tgts is None:\n",
    "            loss = None\n",
    "        else:\n",
    "            B, T, C = logits.shape\n",
    "            logits = logits.view(B*T, C)\n",
    "            tgts = tgts.view(B*T)\n",
    "            loss = F.cross_entropy(logits, tgts)\n",
    "            \n",
    "        return logits, loss\n",
    "\n",
    "    def generate(self, idx, max_new_tokens):\n",
    "        # idx: B, T\n",
    "        for _ in range(max_new_tokens):\n",
    "            logits, loss = self(idx)\n",
    "            logits = logits[:, -1, :] # B, C\n",
    "            probs = F.softmax(logits, dim=-1)\n",
    "            idx_next = torch.multinomial(probs, num_samples=1) # B, 1\n",
    "            idx = torch.cat((idx, idx_next), dim=1) # B, T+1\n",
    "        return idx\n",
    "            \n",
    "m = BigramLanguageModel()\n",
    "logits, loss = m(xb, yb)\n",
    "print(logits.shape)\n",
    "print(loss)"
   ]
  },
  {
   "cell_type": "code",
   "execution_count": 22,
   "id": "23cec2c5-ae35-470b-a8b7-b5021461da6b",
   "metadata": {
    "scrolled": true
   },
   "outputs": [
    {
     "name": "stdout",
     "output_type": "stream",
     "text": [
      "\n",
      "Sr?qP-QWkt\n",
      "\n",
      "S\n",
      "vviYDEsx\n",
      "\n",
      ",OMkDCV&oj\n",
      "\n",
      "&Q:EJh$fRF\n"
     ]
    }
   ],
   "source": [
    "y_hats = m.generate(torch.zeros((4, 1), dtype=torch.long), 10)\n",
    "print(decode(y_hats[0].tolist()))\n",
    "print(decode(y_hats[1].tolist()))\n",
    "print(decode(y_hats[2].tolist()))\n",
    "print(decode(y_hats[3].tolist()))"
   ]
  },
  {
   "cell_type": "code",
   "execution_count": 23,
   "id": "a008d12d-4084-4333-bc62-3c84c002b408",
   "metadata": {
    "scrolled": true
   },
   "outputs": [
    {
     "name": "stdout",
     "output_type": "stream",
     "text": [
      "2.4730143547058105\n"
     ]
    }
   ],
   "source": [
    "opt = torch.optim.AdamW(m.parameters(), lr=1e-3)\n",
    "\n",
    "batch_sz = 32\n",
    "for steps in range(10000):\n",
    "    xb, yb = get_batch('train')\n",
    "    \n",
    "    logits, loss = m(xb, yb)\n",
    "    opt.zero_grad(set_to_none=True)\n",
    "    loss.backward()\n",
    "    opt.step()\n",
    "    \n",
    "print(loss.item())"
   ]
  },
  {
   "cell_type": "code",
   "execution_count": 24,
   "id": "2f58272c-7d33-4fb1-a78b-5a4684cf94e0",
   "metadata": {},
   "outputs": [
    {
     "name": "stdout",
     "output_type": "stream",
     "text": [
      "\n",
      "By y a!\n",
      "Caril.n y, denjxhece w illd CHAL, mer thoun s's:Conchuntilalllevise sthat dy hangilyoteng h hasbe pave pirance\n",
      "Rie hicomyonthar's\n",
      "Plinseard ith henoure wounonthioneir thondy, y heltieiengerofo'dsssit ey\n",
      "KIN d pe wither vouprrouthercc.\n",
      "hathe; d!\n",
      "My hind tt hinig t ouchos tes; st yo hind wotte\n"
     ]
    }
   ],
   "source": [
    "print(decode(m.generate(torch.zeros((1, 1), dtype=torch.long), 300)[0].tolist()))"
   ]
  },
  {
   "cell_type": "code",
   "execution_count": 25,
   "id": "a5848190-4939-43c2-a495-875e4d54d601",
   "metadata": {},
   "outputs": [
    {
     "ename": "TypeError",
     "evalue": "BigramLanguageModel.__init__() takes 1 positional argument but 2 were given",
     "output_type": "error",
     "traceback": [
      "\u001b[0;31m---------------------------------------------------------------------------\u001b[0m",
      "\u001b[0;31mTypeError\u001b[0m                                 Traceback (most recent call last)",
      "Cell \u001b[0;32mIn[25], line 1\u001b[0m\n\u001b[0;32m----> 1\u001b[0m model \u001b[38;5;241m=\u001b[39m \u001b[43mBigramLanguageModel\u001b[49m\u001b[43m(\u001b[49m\u001b[43mvocab_sz\u001b[49m\u001b[43m)\u001b[49m\n\u001b[1;32m      2\u001b[0m opt \u001b[38;5;241m=\u001b[39m torch\u001b[38;5;241m.\u001b[39moptim\u001b[38;5;241m.\u001b[39mAdamW(model\u001b[38;5;241m.\u001b[39mparameters(), lr\u001b[38;5;241m=\u001b[39m\u001b[38;5;241m1e-3\u001b[39m)\n",
      "\u001b[0;31mTypeError\u001b[0m: BigramLanguageModel.__init__() takes 1 positional argument but 2 were given"
     ]
    }
   ],
   "source": [
    "model = BigramLanguageModel(vocab_sz)\n",
    "opt = torch.optim.AdamW(model.parameters(), lr=1e-3)"
   ]
  },
  {
   "cell_type": "code",
   "execution_count": null,
   "id": "1c2e33a0-48cc-4629-a130-e2e13c65ce9e",
   "metadata": {},
   "outputs": [],
   "source": [
    "eval_iters = 200\n",
    "max_iters = 30000\n",
    "eval_interval = 300\n",
    "\n",
    "@torch.no_grad()\n",
    "def estimate_loss():\n",
    "    out = {}\n",
    "    model.eval()\n",
    "    for split in ['train', 'val']:\n",
    "        losses = torch.zeros(eval_iters)\n",
    "        for k in range(eval_iters):\n",
    "            xb, yb = get_batch(split)\n",
    "            logits, loss = model(xb, yb)\n",
    "            losses[k] = loss.item()\n",
    "        out[split] = losses.mean()\n",
    "    model.train()\n",
    "    \n",
    "    return out"
   ]
  },
  {
   "cell_type": "code",
   "execution_count": null,
   "id": "aa090317-f556-44b1-8a73-33d6578a4c1b",
   "metadata": {
    "scrolled": true
   },
   "outputs": [],
   "source": [
    "for i in range(max_iters):\n",
    "\n",
    "    if i % eval_interval == 0:\n",
    "        losses = estimate_loss()\n",
    "        print(f\"step: {i} | train loss: {losses['train']:.4f} | val loss: {losses['val']:.4f}\")\n",
    "        \n",
    "    xb, yb = get_batch('train')\n",
    "    \n",
    "    logits, loss = model(xb, yb)\n",
    "    opt.zero_grad(set_to_none=True)\n",
    "    loss.backward()\n",
    "    opt.step()"
   ]
  },
  {
   "cell_type": "code",
   "execution_count": null,
   "id": "5ac68681-d676-4a5f-9ab2-e78d1de5e0d9",
   "metadata": {},
   "outputs": [],
   "source": [
    "print(decode(model.generate(torch.zeros((1, 1), dtype=torch.long), 300)[0].tolist()))"
   ]
  },
  {
   "cell_type": "code",
   "execution_count": null,
   "id": "af3296e3-8703-4474-881d-75405e8bf70c",
   "metadata": {},
   "outputs": [],
   "source": []
  }
 ],
 "metadata": {
  "kernelspec": {
   "display_name": "Python 3 (ipykernel)",
   "language": "python",
   "name": "python3"
  },
  "language_info": {
   "codemirror_mode": {
    "name": "ipython",
    "version": 3
   },
   "file_extension": ".py",
   "mimetype": "text/x-python",
   "name": "python",
   "nbconvert_exporter": "python",
   "pygments_lexer": "ipython3",
   "version": "3.13.1"
  }
 },
 "nbformat": 4,
 "nbformat_minor": 5
}
