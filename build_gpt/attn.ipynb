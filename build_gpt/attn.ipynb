{
 "cells": [
  {
   "cell_type": "code",
   "execution_count": 1,
   "id": "87a0acf4-2075-4154-b45f-6cc78cb85873",
   "metadata": {},
   "outputs": [],
   "source": [
    "import torch\n",
    "import torch.nn.functional as F\n",
    "\n",
    "from torch import nn"
   ]
  },
  {
   "cell_type": "code",
   "execution_count": 2,
   "id": "c33c692a-f4f9-4e28-8140-d25882d7a454",
   "metadata": {
    "scrolled": true
   },
   "outputs": [
    {
     "data": {
      "text/plain": [
       "tensor([[[ 0.1808, -0.0700],\n",
       "         [-0.3596, -0.9152],\n",
       "         [ 0.6258,  0.0255],\n",
       "         [ 0.9545,  0.0643],\n",
       "         [ 0.3612,  1.1679],\n",
       "         [-1.3499, -0.5102],\n",
       "         [ 0.2360, -0.2398],\n",
       "         [-0.9211,  1.5433]],\n",
       "\n",
       "        [[ 1.3488, -0.1396],\n",
       "         [ 0.2858,  0.9651],\n",
       "         [-2.0371,  0.4931],\n",
       "         [ 1.4870,  0.5910],\n",
       "         [ 0.1260, -1.5627],\n",
       "         [-1.1601, -0.3348],\n",
       "         [ 0.4478, -0.8016],\n",
       "         [ 1.5236,  2.5086]],\n",
       "\n",
       "        [[-0.6631, -0.2513],\n",
       "         [ 1.0101,  0.1215],\n",
       "         [ 0.1584,  1.1340],\n",
       "         [-1.1539, -0.2984],\n",
       "         [-0.5075, -0.9239],\n",
       "         [ 0.5467, -1.4948],\n",
       "         [-1.2057,  0.5718],\n",
       "         [-0.5974, -0.6937]],\n",
       "\n",
       "        [[ 1.6455, -0.8030],\n",
       "         [ 1.3514, -0.2759],\n",
       "         [-1.5108,  2.1048],\n",
       "         [ 2.7630, -1.7465],\n",
       "         [ 1.4516, -1.5103],\n",
       "         [ 0.8212, -0.2115],\n",
       "         [ 0.7789,  1.5333],\n",
       "         [ 1.6097, -0.4032]]])"
      ]
     },
     "execution_count": 2,
     "metadata": {},
     "output_type": "execute_result"
    }
   ],
   "source": [
    "torch.manual_seed(1337)\n",
    "B,T,C = 4, 8, 2\n",
    "x = torch.randn((B, T, C))\n",
    "x"
   ]
  },
  {
   "cell_type": "markdown",
   "id": "bd96281f-9641-4754-91f9-02958544b359",
   "metadata": {},
   "source": [
    "- In the avg tensor, for each timestep I need to find the avg of `C` upto _that_ timestep."
   ]
  },
  {
   "cell_type": "code",
   "execution_count": 3,
   "id": "1d3a051f-afe3-4fc6-a80b-8d81dfbf5004",
   "metadata": {
    "scrolled": true
   },
   "outputs": [
    {
     "data": {
      "text/plain": [
       "tensor([[[ 0.1808, -0.0700],\n",
       "         [-0.0894, -0.4926],\n",
       "         [ 0.1490, -0.3199],\n",
       "         [ 0.3504, -0.2238],\n",
       "         [ 0.3525,  0.0545],\n",
       "         [ 0.0688, -0.0396],\n",
       "         [ 0.0927, -0.0682],\n",
       "         [-0.0341,  0.1332]],\n",
       "\n",
       "        [[ 1.3488, -0.1396],\n",
       "         [ 0.8173,  0.4127],\n",
       "         [-0.1342,  0.4395],\n",
       "         [ 0.2711,  0.4774],\n",
       "         [ 0.2421,  0.0694],\n",
       "         [ 0.0084,  0.0020],\n",
       "         [ 0.0712, -0.1128],\n",
       "         [ 0.2527,  0.2149]],\n",
       "\n",
       "        [[-0.6631, -0.2513],\n",
       "         [ 0.1735, -0.0649],\n",
       "         [ 0.1685,  0.3348],\n",
       "         [-0.1621,  0.1765],\n",
       "         [-0.2312, -0.0436],\n",
       "         [-0.1015, -0.2855],\n",
       "         [-0.2593, -0.1630],\n",
       "         [-0.3015, -0.2293]],\n",
       "\n",
       "        [[ 1.6455, -0.8030],\n",
       "         [ 1.4985, -0.5395],\n",
       "         [ 0.4954,  0.3420],\n",
       "         [ 1.0623, -0.1802],\n",
       "         [ 1.1401, -0.4462],\n",
       "         [ 1.0870, -0.4071],\n",
       "         [ 1.0430, -0.1299],\n",
       "         [ 1.1138, -0.1641]]])"
      ]
     },
     "execution_count": 3,
     "metadata": {},
     "output_type": "execute_result"
    }
   ],
   "source": [
    "xbow = torch.zeros((B,T,C))\n",
    "for b in range(B):\n",
    "    for t in range(T):\n",
    "        tmp = x[b,:t+1] # B,T\n",
    "        xbow[b,t] = torch.mean(tmp, 0) # t, C\n",
    "xbow"
   ]
  },
  {
   "cell_type": "markdown",
   "id": "4c4f4a6e-b665-467b-8b4e-db188bf4312f",
   "metadata": {},
   "source": [
    "- Andrej says that there's a more efficient way of doing this using mmul. Let's try to derive it ourselves."
   ]
  },
  {
   "cell_type": "code",
   "execution_count": 4,
   "id": "e826ccbe-b367-4ea0-be7f-fc34245de489",
   "metadata": {},
   "outputs": [
    {
     "data": {
      "text/plain": [
       "(tensor([[ 0.1808, -0.0700],\n",
       "         [-0.3596, -0.9152],\n",
       "         [ 0.6258,  0.0255],\n",
       "         [ 0.9545,  0.0643],\n",
       "         [ 0.3612,  1.1679],\n",
       "         [-1.3499, -0.5102],\n",
       "         [ 0.2360, -0.2398],\n",
       "         [-0.9211,  1.5433]]),\n",
       " torch.Size([8, 2]))"
      ]
     },
     "execution_count": 4,
     "metadata": {},
     "output_type": "execute_result"
    }
   ],
   "source": [
    "m1 = x[0]\n",
    "m1, m1.shape"
   ]
  },
  {
   "cell_type": "markdown",
   "id": "d02be4b5-a1b3-47ae-8d63-8c506ef0082a",
   "metadata": {},
   "source": [
    "- The target matrix is also of shape `8, 2`. Going by that, the matrix to multiply `m1` with is, therefore, of shape `2, 2` giving `8, 2`."
   ]
  },
  {
   "cell_type": "code",
   "execution_count": 5,
   "id": "4bf5b79b-1815-4002-9ab9-699944b3cd78",
   "metadata": {},
   "outputs": [
    {
     "data": {
      "text/plain": [
       "(tensor([[0.5000, 0.5000],\n",
       "         [0.5000, 0.5000]]),\n",
       " torch.Size([2, 2]))"
      ]
     },
     "execution_count": 5,
     "metadata": {},
     "output_type": "execute_result"
    }
   ],
   "source": [
    "m2 = torch.ones((C, C)) / 2\n",
    "m2, m2.shape"
   ]
  },
  {
   "cell_type": "markdown",
   "id": "1a9411f4-57db-4a55-a6ac-f9653091ef5e",
   "metadata": {},
   "source": [
    "- That's not correct. What we can do instead is have a left lower triangular matrix of ones (initially) that is multiplied with `x`.\n",
    "- Each row can then be divided by i+2.\n",
    "- What this does is that at each row, it masks out the future timesteps, and only averages curr and upto that row.\n",
    "- So, this matrix will be: `8, 8`. (result -> `8, 2`)"
   ]
  },
  {
   "cell_type": "code",
   "execution_count": 6,
   "id": "c9fc19a7-6a5f-49da-b2e0-1cda3618bd0a",
   "metadata": {},
   "outputs": [
    {
     "data": {
      "text/plain": [
       "(torch.Size([8, 8]),\n",
       " tensor([[1., 0., 0., 0., 0., 0., 0., 0.],\n",
       "         [1., 1., 0., 0., 0., 0., 0., 0.],\n",
       "         [1., 1., 1., 0., 0., 0., 0., 0.],\n",
       "         [1., 1., 1., 1., 0., 0., 0., 0.],\n",
       "         [1., 1., 1., 1., 1., 0., 0., 0.],\n",
       "         [1., 1., 1., 1., 1., 1., 0., 0.],\n",
       "         [1., 1., 1., 1., 1., 1., 1., 0.],\n",
       "         [1., 1., 1., 1., 1., 1., 1., 1.]]))"
      ]
     },
     "execution_count": 6,
     "metadata": {},
     "output_type": "execute_result"
    }
   ],
   "source": [
    "m1 = torch.tril(torch.ones((T,T)))\n",
    "m1.shape, m1"
   ]
  },
  {
   "cell_type": "code",
   "execution_count": 7,
   "id": "ccaa5d05-7040-4b21-a2b2-1fb976df1448",
   "metadata": {},
   "outputs": [
    {
     "data": {
      "text/plain": [
       "(torch.Size([8, 2]),\n",
       " tensor([[ 0.1808, -0.0700],\n",
       "         [-0.3596, -0.9152],\n",
       "         [ 0.6258,  0.0255],\n",
       "         [ 0.9545,  0.0643],\n",
       "         [ 0.3612,  1.1679],\n",
       "         [-1.3499, -0.5102],\n",
       "         [ 0.2360, -0.2398],\n",
       "         [-0.9211,  1.5433]]))"
      ]
     },
     "execution_count": 7,
     "metadata": {},
     "output_type": "execute_result"
    }
   ],
   "source": [
    "m2 = x[0]\n",
    "m2.shape, m2"
   ]
  },
  {
   "cell_type": "code",
   "execution_count": 8,
   "id": "5b8000ab-c734-4270-8f15-14d26e3a5b51",
   "metadata": {},
   "outputs": [
    {
     "data": {
      "text/plain": [
       "tensor([[ 0.1808, -0.0700],\n",
       "        [-0.1789, -0.9852],\n",
       "        [ 0.4469, -0.9597],\n",
       "        [ 1.4014, -0.8953],\n",
       "        [ 1.7626,  0.2725],\n",
       "        [ 0.4127, -0.2376],\n",
       "        [ 0.6486, -0.4774],\n",
       "        [-0.2725,  1.0659]])"
      ]
     },
     "execution_count": 8,
     "metadata": {},
     "output_type": "execute_result"
    }
   ],
   "source": [
    "m1 @ m2 # not the avg yet"
   ]
  },
  {
   "cell_type": "code",
   "execution_count": 9,
   "id": "415f2cfe-7a75-43a0-a9f1-460e75bc7fcf",
   "metadata": {},
   "outputs": [
    {
     "data": {
      "text/plain": [
       "torch.Size([8, 1])"
      ]
     },
     "execution_count": 9,
     "metadata": {},
     "output_type": "execute_result"
    }
   ],
   "source": [
    "torch.arange(1, T+1).unsqueeze(1).shape"
   ]
  },
  {
   "cell_type": "code",
   "execution_count": 10,
   "id": "04e45c3f-f1c8-4f47-bfc8-0c91f153d75b",
   "metadata": {},
   "outputs": [
    {
     "data": {
      "text/plain": [
       "tensor([[1.0000, 0.0000, 0.0000, 0.0000, 0.0000, 0.0000, 0.0000, 0.0000],\n",
       "        [0.5000, 0.5000, 0.0000, 0.0000, 0.0000, 0.0000, 0.0000, 0.0000],\n",
       "        [0.3333, 0.3333, 0.3333, 0.0000, 0.0000, 0.0000, 0.0000, 0.0000],\n",
       "        [0.2500, 0.2500, 0.2500, 0.2500, 0.0000, 0.0000, 0.0000, 0.0000],\n",
       "        [0.2000, 0.2000, 0.2000, 0.2000, 0.2000, 0.0000, 0.0000, 0.0000],\n",
       "        [0.1667, 0.1667, 0.1667, 0.1667, 0.1667, 0.1667, 0.0000, 0.0000],\n",
       "        [0.1429, 0.1429, 0.1429, 0.1429, 0.1429, 0.1429, 0.1429, 0.0000],\n",
       "        [0.1250, 0.1250, 0.1250, 0.1250, 0.1250, 0.1250, 0.1250, 0.1250]])"
      ]
     },
     "execution_count": 10,
     "metadata": {},
     "output_type": "execute_result"
    }
   ],
   "source": [
    "avg_m = m1 / torch.arange(1, T+1).unsqueeze(1)\n",
    "avg_m"
   ]
  },
  {
   "cell_type": "code",
   "execution_count": 11,
   "id": "801ab862-3edb-4653-8e17-3d3f4e4dca38",
   "metadata": {},
   "outputs": [
    {
     "data": {
      "text/plain": [
       "tensor([[ 0.1808, -0.0700],\n",
       "        [-0.0894, -0.4926],\n",
       "        [ 0.1490, -0.3199],\n",
       "        [ 0.3504, -0.2238],\n",
       "        [ 0.3525,  0.0545],\n",
       "        [ 0.0688, -0.0396],\n",
       "        [ 0.0927, -0.0682],\n",
       "        [-0.0341,  0.1332]])"
      ]
     },
     "execution_count": 11,
     "metadata": {},
     "output_type": "execute_result"
    }
   ],
   "source": [
    "res = avg_m @ m2\n",
    "res"
   ]
  },
  {
   "cell_type": "code",
   "execution_count": 12,
   "id": "de0a84ae-f876-4dd9-aa6c-1ce34ee71f74",
   "metadata": {},
   "outputs": [
    {
     "data": {
      "text/plain": [
       "True"
      ]
     },
     "execution_count": 12,
     "metadata": {},
     "output_type": "execute_result"
    }
   ],
   "source": [
    "torch.allclose(res, xbow[0])"
   ]
  },
  {
   "cell_type": "markdown",
   "id": "e76c49a4-cb12-4029-89e7-08993804cdbd",
   "metadata": {},
   "source": [
    "Yayy! It's correct!\n",
    "\n",
    "Another (not-so-hard-coded) way to do it:"
   ]
  },
  {
   "cell_type": "code",
   "execution_count": 13,
   "id": "393fb579-79e4-46c2-a336-fc00038b3477",
   "metadata": {},
   "outputs": [
    {
     "data": {
      "text/plain": [
       "tensor([[1.0000, 0.0000, 0.0000, 0.0000, 0.0000, 0.0000, 0.0000, 0.0000],\n",
       "        [0.5000, 0.5000, 0.0000, 0.0000, 0.0000, 0.0000, 0.0000, 0.0000],\n",
       "        [0.3333, 0.3333, 0.3333, 0.0000, 0.0000, 0.0000, 0.0000, 0.0000],\n",
       "        [0.2500, 0.2500, 0.2500, 0.2500, 0.0000, 0.0000, 0.0000, 0.0000],\n",
       "        [0.2000, 0.2000, 0.2000, 0.2000, 0.2000, 0.0000, 0.0000, 0.0000],\n",
       "        [0.1667, 0.1667, 0.1667, 0.1667, 0.1667, 0.1667, 0.0000, 0.0000],\n",
       "        [0.1429, 0.1429, 0.1429, 0.1429, 0.1429, 0.1429, 0.1429, 0.0000],\n",
       "        [0.1250, 0.1250, 0.1250, 0.1250, 0.1250, 0.1250, 0.1250, 0.1250]])"
      ]
     },
     "execution_count": 13,
     "metadata": {},
     "output_type": "execute_result"
    }
   ],
   "source": [
    "avg_m = m1 / torch.sum(m1, 1, keepdim=True)\n",
    "avg_m"
   ]
  },
  {
   "cell_type": "code",
   "execution_count": 14,
   "id": "617b4632-94aa-45a4-89a1-35cc4c373891",
   "metadata": {},
   "outputs": [
    {
     "data": {
      "text/plain": [
       "True"
      ]
     },
     "execution_count": 14,
     "metadata": {},
     "output_type": "execute_result"
    }
   ],
   "source": [
    "res = avg_m @ m2\n",
    "torch.allclose(res, xbow[0])"
   ]
  },
  {
   "cell_type": "code",
   "execution_count": 15,
   "id": "edcbf306-a335-4008-a33b-ce2e7dcd2518",
   "metadata": {},
   "outputs": [
    {
     "data": {
      "text/plain": [
       "tensor([[[ 0.1808, -0.0700],\n",
       "         [-0.0894, -0.4926],\n",
       "         [ 0.1490, -0.3199],\n",
       "         [ 0.3504, -0.2238],\n",
       "         [ 0.3525,  0.0545],\n",
       "         [ 0.0688, -0.0396],\n",
       "         [ 0.0927, -0.0682],\n",
       "         [-0.0341,  0.1332]],\n",
       "\n",
       "        [[ 1.3488, -0.1396],\n",
       "         [ 0.8173,  0.4127],\n",
       "         [-0.1342,  0.4395],\n",
       "         [ 0.2711,  0.4774],\n",
       "         [ 0.2421,  0.0694],\n",
       "         [ 0.0084,  0.0020],\n",
       "         [ 0.0712, -0.1128],\n",
       "         [ 0.2527,  0.2149]],\n",
       "\n",
       "        [[-0.6631, -0.2513],\n",
       "         [ 0.1735, -0.0649],\n",
       "         [ 0.1685,  0.3348],\n",
       "         [-0.1621,  0.1765],\n",
       "         [-0.2312, -0.0436],\n",
       "         [-0.1015, -0.2855],\n",
       "         [-0.2593, -0.1630],\n",
       "         [-0.3015, -0.2293]],\n",
       "\n",
       "        [[ 1.6455, -0.8030],\n",
       "         [ 1.4985, -0.5395],\n",
       "         [ 0.4954,  0.3420],\n",
       "         [ 1.0623, -0.1802],\n",
       "         [ 1.1401, -0.4462],\n",
       "         [ 1.0870, -0.4071],\n",
       "         [ 1.0430, -0.1299],\n",
       "         [ 1.1138, -0.1641]]])"
      ]
     },
     "execution_count": 15,
     "metadata": {},
     "output_type": "execute_result"
    }
   ],
   "source": [
    "wei = torch.tril(torch.ones((T,T)))\n",
    "wei = wei / torch.sum(wei, 1, keepdim=True)\n",
    "xbow2 = wei @ x # [B], T, T @ B, T, C --> B, T, C\n",
    "xbow2"
   ]
  },
  {
   "cell_type": "code",
   "execution_count": 16,
   "id": "c2ac1613-4fea-4f05-90b6-8adebdb363ea",
   "metadata": {},
   "outputs": [
    {
     "data": {
      "text/plain": [
       "True"
      ]
     },
     "execution_count": 16,
     "metadata": {},
     "output_type": "execute_result"
    }
   ],
   "source": [
    "torch.allclose(xbow2[0], res)"
   ]
  },
  {
   "cell_type": "markdown",
   "id": "64ad2260-81df-49f2-9751-c95d9d4de62c",
   "metadata": {},
   "source": [
    "There's another way of computing the same thing. This version uses softmax. Softmax basically creates a probability distribution from a set of logits.\n",
    "\n",
    "So, if you have 0s in places where you want 1s and `-inf`s in places where you want a 0 (bear with me), then when you exponentiate these, you'll get the lower tril matrix. The next step in softmax is dividing each element with the sum of all the exponentiated values, i.e., all the values in each row of the obtained tril giving us the required matrix."
   ]
  },
  {
   "cell_type": "code",
   "execution_count": 17,
   "id": "63d3fb5e-9d2c-4d24-bb6f-481d998d891f",
   "metadata": {},
   "outputs": [
    {
     "data": {
      "text/plain": [
       "tensor([[False,  True,  True,  True,  True,  True,  True,  True],\n",
       "        [False, False,  True,  True,  True,  True,  True,  True],\n",
       "        [False, False, False,  True,  True,  True,  True,  True],\n",
       "        [False, False, False, False,  True,  True,  True,  True],\n",
       "        [False, False, False, False, False,  True,  True,  True],\n",
       "        [False, False, False, False, False, False,  True,  True],\n",
       "        [False, False, False, False, False, False, False,  True],\n",
       "        [False, False, False, False, False, False, False, False]])"
      ]
     },
     "execution_count": 17,
     "metadata": {},
     "output_type": "execute_result"
    }
   ],
   "source": [
    "tril = torch.tril(torch.ones((T, T)))\n",
    "tril==0"
   ]
  },
  {
   "cell_type": "code",
   "execution_count": 18,
   "id": "5813a102-909e-4485-b3fa-6c2c4630d2dd",
   "metadata": {},
   "outputs": [
    {
     "data": {
      "text/plain": [
       "tensor([[1.0000, 0.0000, 0.0000, 0.0000, 0.0000, 0.0000, 0.0000, 0.0000],\n",
       "        [0.5000, 0.5000, 0.0000, 0.0000, 0.0000, 0.0000, 0.0000, 0.0000],\n",
       "        [0.3333, 0.3333, 0.3333, 0.0000, 0.0000, 0.0000, 0.0000, 0.0000],\n",
       "        [0.2500, 0.2500, 0.2500, 0.2500, 0.0000, 0.0000, 0.0000, 0.0000],\n",
       "        [0.2000, 0.2000, 0.2000, 0.2000, 0.2000, 0.0000, 0.0000, 0.0000],\n",
       "        [0.1667, 0.1667, 0.1667, 0.1667, 0.1667, 0.1667, 0.0000, 0.0000],\n",
       "        [0.1429, 0.1429, 0.1429, 0.1429, 0.1429, 0.1429, 0.1429, 0.0000],\n",
       "        [0.1250, 0.1250, 0.1250, 0.1250, 0.1250, 0.1250, 0.1250, 0.1250]])"
      ]
     },
     "execution_count": 18,
     "metadata": {},
     "output_type": "execute_result"
    }
   ],
   "source": [
    "tril = torch.tril(torch.ones((T, T)))\n",
    "wei = torch.zeros((T, T))\n",
    "wei = wei.masked_fill(tril==0, float('-inf'))\n",
    "wei = F.softmax(wei, dim=-1)\n",
    "wei"
   ]
  },
  {
   "cell_type": "code",
   "execution_count": 19,
   "id": "cd8a2d62-ca9d-4b07-a227-eb42f049615d",
   "metadata": {},
   "outputs": [
    {
     "data": {
      "text/plain": [
       "True"
      ]
     },
     "execution_count": 19,
     "metadata": {},
     "output_type": "execute_result"
    }
   ],
   "source": [
    "xbow3 = wei @ x\n",
    "torch.allclose(res, xbow3[0])"
   ]
  },
  {
   "cell_type": "markdown",
   "id": "e2bd6652-541c-4b96-b199-6676346b24b7",
   "metadata": {},
   "source": [
    "Of course, all we have done so far is passing around information from the prev tokens to the curr token by averaging the embeddings up until curr token embedding. And this isn't the actual self-attention."
   ]
  },
  {
   "cell_type": "markdown",
   "id": "ca7ed8a7-934e-49c0-b5f8-56dc79b13513",
   "metadata": {},
   "source": [
    "Here's what Andrej's telling about self-attention (for starters):\n",
    "- Just averaging the tok embs until a timestep is a lossy way of passing around information. Instead, here's what happens in self attention...\n",
    "    - The current token has a query vector. It asks a question.\n",
    "    - The tokens in the previous timesteps have a key vector. It says what it has to offer.\n",
    "    - The dot product between the curr tok's `q` vector and prev toks' `k` vector gives `wei`."
   ]
  },
  {
   "cell_type": "code",
   "execution_count": 54,
   "id": "e6289732-d8d4-4537-977b-0f8aa7ae6246",
   "metadata": {},
   "outputs": [
    {
     "data": {
      "text/plain": [
       "torch.Size([4, 8, 32])"
      ]
     },
     "execution_count": 54,
     "metadata": {},
     "output_type": "execute_result"
    }
   ],
   "source": [
    "B, T, C = 4, 8, 32\n",
    "x = torch.randn((B, T, C))\n",
    "x.shape"
   ]
  },
  {
   "cell_type": "code",
   "execution_count": 55,
   "id": "baf8da8a-53de-4dfb-a682-8f0cbe214436",
   "metadata": {},
   "outputs": [
    {
     "data": {
      "text/plain": [
       "torch.Size([4, 8, 16])"
      ]
     },
     "execution_count": 55,
     "metadata": {},
     "output_type": "execute_result"
    }
   ],
   "source": [
    "head_sz = 16\n",
    "key = nn.Linear(C, head_sz, bias=False)\n",
    "query = nn.Linear(C, head_sz, bias=False)\n",
    "value = nn.Linear(C, head_sz, bias=False)\n",
    "k = key(x)\n",
    "q = query(x)\n",
    "\n",
    "k.shape"
   ]
  },
  {
   "cell_type": "code",
   "execution_count": 56,
   "id": "2486f123-6571-4c88-b2a7-faad54db3929",
   "metadata": {},
   "outputs": [
    {
     "name": "stdout",
     "output_type": "stream",
     "text": [
      "tensor([[-2.6408, -0.0168, -0.1657, -0.3016,  4.6135,  3.8161,  0.5657, -1.8342],\n",
      "        [ 0.5343, -0.4730, -0.7929, -0.9196, -1.4602,  0.4356, -0.0270, -0.3583],\n",
      "        [ 0.1870, -0.7272, -1.3527, -0.2296,  2.3319,  1.1802,  1.4095,  0.3595],\n",
      "        [-0.3962,  0.3359,  0.6781,  0.1396,  1.4178,  1.1088,  0.2748, -0.9579],\n",
      "        [ 0.8676, -0.9641, -2.2328, -0.5911, -2.0789,  0.2846, -0.4443,  1.2669],\n",
      "        [ 0.0285, -0.1294,  1.5084,  1.3670,  1.7330,  1.9421, -1.6419, -0.4578],\n",
      "        [-0.9873,  1.8264,  3.8634, -0.1285,  4.2294, -0.9790, -1.7341, -0.4707],\n",
      "        [ 0.4985, -0.0867,  1.0004,  0.6012,  0.9321, -0.7500, -0.3899, -0.5351]],\n",
      "       grad_fn=<SelectBackward0>)\n"
     ]
    },
    {
     "data": {
      "text/plain": [
       "torch.Size([4, 8, 8])"
      ]
     },
     "execution_count": 56,
     "metadata": {},
     "output_type": "execute_result"
    }
   ],
   "source": [
    "wei = q @ k.transpose(-2, -1) # (B, T, 16) @ (B, 16, T) ---> (B, T, T)\n",
    "print(wei[0])\n",
    "wei.shape"
   ]
  },
  {
   "cell_type": "markdown",
   "id": "99094122-2266-412b-9280-5c7819a5e3f1",
   "metadata": {},
   "source": [
    "We must now mask out the previous timesteps."
   ]
  },
  {
   "cell_type": "code",
   "execution_count": 57,
   "id": "72830271-877f-42be-a560-7fcb48acadc6",
   "metadata": {},
   "outputs": [
    {
     "data": {
      "text/plain": [
       "torch.Size([4, 8, 16])"
      ]
     },
     "execution_count": 57,
     "metadata": {},
     "output_type": "execute_result"
    }
   ],
   "source": [
    "tril = torch.tril(torch.ones(T, T))\n",
    "wei = wei.masked_fill(tril==0, float('-inf')) # tril broadcasts from (T, T) to (B, T, T)\n",
    "wei = F.softmax(wei, dim=-1) # still B, T, T\n",
    "v = value(x)\n",
    "out = wei @ v # (B, T, T) @ (B, T, head_sz) ---> (B, T, head_sz)\n",
    "# out = wei @ x # (B, T, T) @ (B, T, C) ---> (B, T, C)\n",
    "\n",
    "out.shape"
   ]
  },
  {
   "cell_type": "markdown",
   "id": "88aa7f4a-71e5-49ed-a5a9-99377980cb38",
   "metadata": {},
   "source": []
  },
  {
   "cell_type": "code",
   "execution_count": null,
   "id": "79560e0b-3562-4893-b6de-d5ce35a77380",
   "metadata": {},
   "outputs": [],
   "source": []
  }
 ],
 "metadata": {
  "kernelspec": {
   "display_name": "Python 3 (ipykernel)",
   "language": "python",
   "name": "python3"
  },
  "language_info": {
   "codemirror_mode": {
    "name": "ipython",
    "version": 3
   },
   "file_extension": ".py",
   "mimetype": "text/x-python",
   "name": "python",
   "nbconvert_exporter": "python",
   "pygments_lexer": "ipython3",
   "version": "3.13.1"
  }
 },
 "nbformat": 4,
 "nbformat_minor": 5
}
