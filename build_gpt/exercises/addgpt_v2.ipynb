{
 "cells": [
  {
   "cell_type": "code",
   "execution_count": 1,
   "metadata": {},
   "outputs": [],
   "source": [
    "import torch\n",
    "import torch.nn as nn\n",
    "import torch.nn.functional as F\n",
    "import matplotlib.pyplot as plt\n",
    "\n",
    "from typing import Literal\n",
    "import fastcore.utils as fu\n",
    "from dataclasses import dataclass\n",
    "from torch.utils.data import DataLoader, Dataset"
   ]
  },
  {
   "cell_type": "markdown",
   "metadata": {},
   "source": [
    "EX2: Train the GPT on your own dataset of choice! What other data could be fun to blabber on about? (A fun advanced suggestion if you like: train a GPT to do addition of two numbers, i.e. a+b=c. You may find it helpful to predict the digits of c in reverse order, as the typical addition algorithm (that you're hoping it learns) would proceed right to left too. You may want to modify the data loader to simply serve random problems and skip the generation of train.bin, val.bin. You may want to mask out the loss at the input positions of a+b that just specify the problem using y=-1 in the targets (see CrossEntropyLoss ignore_index). Does your Transformer learn to add? Once you have this, swole doge project: build a calculator clone in GPT, for all of +-*/. Not an easy problem. You may need Chain of Thought traces.)"
   ]
  },
  {
   "cell_type": "markdown",
   "metadata": {},
   "source": [
    "Example data:\n",
    "\n",
    "x: 9 8 7 1 . <br>\n",
    "y: 8 7 1 . ?\n",
    "\n",
    "x: 2 3 5 . ? <br>\n",
    "y: 3 5 . ? ?"
   ]
  },
  {
   "cell_type": "code",
   "execution_count": 2,
   "metadata": {},
   "outputs": [],
   "source": [
    "# at max, the gpt should be able to see, for example, 20 + 90 = 110  =>  209001. (. -> to predict next)\n",
    "BLK_SZ = 6\n",
    "NUM_BLKS = 2"
   ]
  },
  {
   "cell_type": "code",
   "execution_count": 69,
   "metadata": {},
   "outputs": [],
   "source": [
    "# hyperparameters\n",
    "@dataclass\n",
    "class hp:\n",
    "    n_embd: int = 16\n",
    "    n_heads: int = 4\n",
    "    head_sz: int = n_embd // n_heads\n",
    "    dropout: float = 0.2\n",
    "    batch_sz: int = 8\n",
    "    dropout: float = 0.2"
   ]
  },
  {
   "cell_type": "code",
   "execution_count": 70,
   "metadata": {},
   "outputs": [],
   "source": [
    "class CausalAttn(nn.Module):\n",
    "    \"\"\"An implementation Multi-Headed Self (and causal) Attention treating the heads as a batch dimension and processing them in parallel.\"\"\"\n",
    "    def __init__(self, head_sz, n_heads, n_embd, blk_sz):\n",
    "        super().__init__()\n",
    "        fu.store_attr()\n",
    "        self.attn = nn.Linear(n_embd, 3*n_embd)\n",
    "        self.register_buffer('tril', torch.tril(torch.ones((blk_sz, blk_sz))))\n",
    "        self.proj = nn.Linear(n_embd, n_embd, bias=True)\n",
    "        self.dropout = nn.Dropout(hp.dropout)\n",
    "\n",
    "    def forward(self, x):\n",
    "        B,T,C = x.shape\n",
    "        # compute k,q,v at once and destructure it to have `n_embd` size\n",
    "        k,q,v = self.attn(x).split(self.n_embd, dim=-1)\n",
    "        # first view the tensors as (B, T, n_heads, head_sz), then transpose the middle dimensions to get (B, n_heads, T, head_sz).\n",
    "        # think about [T, n_heads] to be a separate matrix and think about transposing it.\n",
    "        # initially, you'll have T number of n_heads (have n_heads heads at each timestep) (T, n_heads)\n",
    "        # after transposing, you'll have, at each head, T \"blocks\" or timestep elements    (n_heads, T)\n",
    "        k = k.view(B, T, self.n_heads, self.head_sz).transpose(1, 2) # (B, n_heads, T, head_sz)\n",
    "        q = q.view(B, T, self.n_heads, self.head_sz).transpose(1, 2) # (B, n_heads, T, head_sz)\n",
    "        v = v.view(B, T, self.n_heads, self.head_sz).transpose(1, 2) # (B, n_heads, T, head_sz)\n",
    "        \n",
    "        # raw weights based on q, k affinity --> scaled dot product attn\n",
    "        wei = q @ k.transpose(-2, -1) * self.head_sz**-0.5 # (B, n_heads, T, head_sz) @ (B, n_heads, head_sz, T) --> (B, n_heads, T, T)\n",
    "        # mask past tokens and get a normalized distribution for affinities\n",
    "        wei = wei.masked_fill(self.tril[:T, :T]==0, float('-inf')) # (B, n_heads, T, T)\n",
    "        wei = wei.softmax(dim=-1) # (B, n_heads, T, T)\n",
    "        # scale value vector with affinities\n",
    "        out = wei @ v # (B, n_heads, T, T) @ (B, n_heads, T, head_sz) --> (B, n_heads, T, head_sz)\n",
    "        # transpose(1, 2) --> (B, T, n_heads, head_sz)\n",
    "        # contiguous --> transpose operations make the underlying memory non-contiguous. operations like view require contiguous memory representations.\n",
    "        # view --> (B, T, n_heads, head_sz) -> (B, T, n_embd) (n_embd = n_heads * head_sz)\n",
    "        out = out.transpose(1, 2).contiguous().view(B, T, self.n_embd)\n",
    "        out = self.proj(self.dropout(out))\n",
    "        return out"
   ]
  },
  {
   "cell_type": "code",
   "execution_count": 71,
   "metadata": {},
   "outputs": [],
   "source": [
    "class FeedForward(nn.Module):\n",
    "    \"\"\"An MLP to go at the end of a block.\"\"\"\n",
    "    def __init__(self, n_embd):\n",
    "        super().__init__()\n",
    "        self.net = nn.Sequential(\n",
    "            nn.Linear(n_embd, 4*n_embd),\n",
    "            nn.ReLU(),\n",
    "            nn.Linear(4*n_embd, n_embd),\n",
    "            nn.Dropout(p=hp.dropout)\n",
    "        )\n",
    "\n",
    "    def forward(self, x):\n",
    "        return self.net(x)"
   ]
  },
  {
   "cell_type": "code",
   "execution_count": 72,
   "metadata": {},
   "outputs": [],
   "source": [
    "class Block(nn.Module):\n",
    "    \"\"\"A transformer block with causal attention, an MLP, and layer norm with residual connections.\"\"\"\n",
    "    def __init__(self, n_embd, n_heads, head_sz, blk_sz):\n",
    "        super().__init__()\n",
    "        fu.store_attr()\n",
    "        self.causal_attn = CausalAttn(head_sz, n_heads, n_embd, blk_sz)\n",
    "        self.ffwd = FeedForward(n_embd)\n",
    "        self.ln1 = nn.LayerNorm(n_embd)\n",
    "        self.ln2 = nn.LayerNorm(n_embd)\n",
    "\n",
    "    def forward(self, x):\n",
    "        x = x + self.causal_attn(self.ln1(x))\n",
    "        x = x + self.ffwd(self.ln2(x))\n",
    "        return x # (B, T, n_embd)"
   ]
  },
  {
   "cell_type": "code",
   "execution_count": 73,
   "metadata": {},
   "outputs": [],
   "source": [
    "class AddGPT(nn.Module):\n",
    "    \"\"\"\n",
    "    Your GPT can talk. My GPT can add. We are not the same.\n",
    "    Implementation of an unassuming GPT that can add two numbers.\n",
    "    \"\"\"\n",
    "    def __init__(self):\n",
    "        super().__init__()\n",
    "        self.tok_emb_table = nn.Embedding(10, hp.n_embd) # vocab_sz, n_embd\n",
    "        self.pos_emb_table = nn.Embedding(BLK_SZ, hp.n_embd) # blk_sz, n_embd\n",
    "\n",
    "        self.blocks = nn.Sequential(\n",
    "            *[Block(n_embd=hp.n_embd, n_heads=hp.n_heads, head_sz=hp.head_sz, blk_sz=BLK_SZ) for _ in range(NUM_BLKS)],\n",
    "            nn.LayerNorm(hp.n_embd)\n",
    "        )\n",
    "        self.lm_head = nn.Linear(hp.n_embd, 10) # n_embd, vocab_sz\n",
    "\n",
    "    def forward(self, idx, targets=None):\n",
    "        B,T = idx.shape\n",
    "        tok_emb = self.tok_emb_table(idx)\n",
    "        pos_emb = self.pos_emb_table(torch.arange(T))\n",
    "\n",
    "        x = tok_emb + pos_emb\n",
    "        x = self.blocks(x)\n",
    "        logits = self.lm_head(x)\n",
    "\n",
    "        if targets is None: loss = None\n",
    "        else:\n",
    "            B,T,C = logits.shape\n",
    "            logits = logits.view(B*T, C)\n",
    "            targets = targets.contiguous().view(B*T)\n",
    "            loss = F.cross_entropy(logits, targets, ignore_index=-1)\n",
    "        return logits, loss\n"
   ]
  },
  {
   "cell_type": "code",
   "execution_count": 74,
   "metadata": {},
   "outputs": [
    {
     "data": {
      "text/plain": [
       "7018"
      ]
     },
     "execution_count": 74,
     "metadata": {},
     "output_type": "execute_result"
    }
   ],
   "source": [
    "m = AddGPT()\n",
    "sum(p.numel() for p in m.parameters())"
   ]
  },
  {
   "cell_type": "code",
   "execution_count": 75,
   "metadata": {},
   "outputs": [],
   "source": [
    "class AddDs(Dataset):\n",
    "    def __init__(self, split: str = Literal['train', 'test']):\n",
    "        self.split = split\n",
    "        self.ndigits = 2\n",
    "        num = (10 ** self.ndigits) ** 2 # total number of possible combinations\n",
    "        g = torch.Generator()\n",
    "        g.manual_seed(42)\n",
    "        randns = torch.randperm(num, generator=g)\n",
    "        num_test = int(num * 0.2)\n",
    "        self.ixs = randns[:num_test] if split == 'test' else randns[num_test:]\n",
    "        self.vocab_sz = 10\n",
    "\n",
    "    \n",
    "    def __len__(self):\n",
    "        return self.ixs.nelement()\n",
    "    \n",
    "    def __getitem__(self, idx):\n",
    "        idx = self.ixs[idx].item()\n",
    "        a = idx // (10 ** self.ndigits)\n",
    "        b = idx % (10 ** self.ndigits)\n",
    "        c = a+b\n",
    "        astr = f\"%0{self.ndigits}d\" % a # 2 -> 02; 12 -> 12\n",
    "        bstr = f\"%0{self.ndigits}d\" % b # 2 -> 02; 12 -> 12\n",
    "        cstr = (f\"%0{self.ndigits+1}d\" % c)[::-1] # 2 -> 200; 12 -> 210\n",
    "        data_pt = astr + bstr + cstr \n",
    "        toks = [int(o) for o in data_pt] # [abc] (12 23 530) -> [1, 2, 2, 3, 5, 3, 0]\n",
    "        x = torch.tensor(toks[:-1], dtype=torch.long)\n",
    "        y = torch.tensor(toks[ 1:], dtype=torch.long)\n",
    "        y[:self.ndigits*2 -1] = -1 # ignore loss for the input tokens\n",
    "        return x, y"
   ]
  },
  {
   "cell_type": "code",
   "execution_count": 76,
   "metadata": {},
   "outputs": [],
   "source": [
    "trn_ds = AddDs('train')"
   ]
  },
  {
   "cell_type": "code",
   "execution_count": 77,
   "metadata": {},
   "outputs": [
    {
     "data": {
      "text/plain": [
       "(tensor([7, 3, 7, 2, 5, 4]), tensor([-1, -1, -1,  5,  4,  1]))"
      ]
     },
     "execution_count": 77,
     "metadata": {},
     "output_type": "execute_result"
    }
   ],
   "source": [
    "trn_ds[8]"
   ]
  },
  {
   "cell_type": "code",
   "execution_count": 78,
   "metadata": {},
   "outputs": [],
   "source": [
    "trn_dl = DataLoader(trn_ds, batch_size=hp.batch_sz)"
   ]
  },
  {
   "cell_type": "code",
   "execution_count": 79,
   "metadata": {},
   "outputs": [
    {
     "data": {
      "text/plain": [
       "torch.Size([1, 6, 10])"
      ]
     },
     "execution_count": 79,
     "metadata": {},
     "output_type": "execute_result"
    }
   ],
   "source": [
    "m = AddGPT()\n",
    "logits,_ = m(trn_ds[0][0].unsqueeze(0))\n",
    "logits.shape"
   ]
  },
  {
   "cell_type": "code",
   "execution_count": 80,
   "metadata": {},
   "outputs": [],
   "source": [
    "model = AddGPT()\n",
    "optim = torch.optim.AdamW(model.parameters(), lr=1e-3)\n",
    "stepi = []\n",
    "lossi = []"
   ]
  },
  {
   "cell_type": "code",
   "execution_count": 81,
   "metadata": {},
   "outputs": [
    {
     "name": "stdout",
     "output_type": "stream",
     "text": [
      "iter 0; loss: 2.14412784576416\n"
     ]
    },
    {
     "name": "stdout",
     "output_type": "stream",
     "text": [
      "iter 100; loss: 1.8283103704452515\n",
      "iter 200; loss: 1.7699779272079468\n",
      "iter 300; loss: 1.6099663972854614\n",
      "iter 400; loss: 1.6552222967147827\n",
      "iter 500; loss: 1.659772515296936\n",
      "iter 600; loss: 1.5997055768966675\n",
      "iter 700; loss: 1.4807829856872559\n",
      "iter 800; loss: 1.5234659910202026\n",
      "iter 900; loss: 1.5645884275436401\n",
      "iter 1000; loss: 1.524319052696228\n",
      "iter 1100; loss: 1.6180225610733032\n",
      "iter 1200; loss: 1.5032597780227661\n",
      "iter 1300; loss: 1.503485083580017\n",
      "iter 1400; loss: 1.5569953918457031\n",
      "iter 1500; loss: 1.5004087686538696\n",
      "iter 1600; loss: 1.5364247560501099\n",
      "iter 1700; loss: 1.2220290899276733\n",
      "iter 1800; loss: 1.3837014436721802\n",
      "iter 1900; loss: 1.3641084432601929\n",
      "iter 2000; loss: 1.2257778644561768\n",
      "iter 2100; loss: 1.3622465133666992\n",
      "iter 2200; loss: 1.2132558822631836\n",
      "iter 2300; loss: 1.238746166229248\n",
      "iter 2400; loss: 1.2978261709213257\n",
      "iter 2500; loss: 1.2146995067596436\n",
      "iter 2600; loss: 1.0956072807312012\n",
      "iter 2700; loss: 0.9527456760406494\n",
      "iter 2800; loss: 1.0173009634017944\n",
      "iter 2900; loss: 0.8634002804756165\n",
      "iter 3000; loss: 0.9021846652030945\n",
      "iter 3100; loss: 1.0153870582580566\n",
      "iter 3200; loss: 0.9301572442054749\n",
      "iter 3300; loss: 0.8761501908302307\n",
      "iter 3400; loss: 0.6828024983406067\n",
      "iter 3500; loss: 0.830529510974884\n",
      "iter 3600; loss: 0.7610509991645813\n",
      "iter 3700; loss: 0.5854669809341431\n",
      "iter 3800; loss: 0.802262008190155\n",
      "iter 3900; loss: 0.5353177785873413\n",
      "iter 4000; loss: 0.5276060700416565\n",
      "iter 4100; loss: 0.5467729568481445\n",
      "iter 4200; loss: 0.5470789074897766\n",
      "iter 4300; loss: 0.6361240744590759\n",
      "iter 4400; loss: 0.6440455317497253\n",
      "iter 4500; loss: 0.5363180041313171\n",
      "iter 4600; loss: 0.4174143970012665\n",
      "iter 4700; loss: 0.44827592372894287\n",
      "iter 4800; loss: 0.5959585309028625\n",
      "iter 4900; loss: 0.4012022912502289\n",
      "iter 5000; loss: 0.4939397871494293\n",
      "iter 5100; loss: 0.5575911402702332\n",
      "iter 5200; loss: 0.4633689224720001\n",
      "iter 5300; loss: 0.5399373173713684\n",
      "iter 5400; loss: 0.4920518696308136\n",
      "iter 5500; loss: 0.5405632853507996\n",
      "iter 5600; loss: 0.3806641399860382\n",
      "iter 5700; loss: 0.5616086721420288\n",
      "iter 5800; loss: 0.2425704002380371\n",
      "iter 5900; loss: 0.37820208072662354\n",
      "iter 6000; loss: 0.4442935883998871\n",
      "iter 6100; loss: 0.3415258228778839\n",
      "iter 6200; loss: 0.42773425579071045\n",
      "iter 6300; loss: 0.4435974359512329\n",
      "iter 6400; loss: 0.44257238507270813\n",
      "iter 6500; loss: 0.4839353859424591\n",
      "iter 6600; loss: 0.3313564956188202\n",
      "iter 6700; loss: 0.2620946168899536\n",
      "iter 6800; loss: 0.45310473442077637\n",
      "iter 6900; loss: 0.29527905583381653\n",
      "iter 7000; loss: 0.3935225009918213\n",
      "iter 7100; loss: 0.2353442758321762\n",
      "iter 7200; loss: 0.32239866256713867\n",
      "iter 7300; loss: 0.3024858236312866\n",
      "iter 7400; loss: 0.4370175898075104\n",
      "iter 7500; loss: 0.3257189691066742\n",
      "iter 7600; loss: 0.2714644968509674\n",
      "iter 7700; loss: 0.1820538491010666\n",
      "iter 7800; loss: 0.48755311965942383\n",
      "iter 7900; loss: 0.3564584255218506\n",
      "iter 8000; loss: 0.2306831330060959\n",
      "iter 8100; loss: 0.2524546682834625\n",
      "iter 8200; loss: 0.26639464497566223\n",
      "iter 8300; loss: 0.2614487111568451\n",
      "iter 8400; loss: 0.2466585487127304\n",
      "iter 8500; loss: 0.16913793981075287\n",
      "iter 8600; loss: 0.2988245487213135\n",
      "iter 8700; loss: 0.1722216010093689\n",
      "iter 8800; loss: 0.31120768189430237\n",
      "iter 8900; loss: 0.434587687253952\n",
      "iter 9000; loss: 0.2345990687608719\n",
      "iter 9100; loss: 0.31622207164764404\n",
      "iter 9200; loss: 0.146531343460083\n",
      "iter 9300; loss: 0.2543589770793915\n",
      "iter 9400; loss: 0.2938375174999237\n",
      "iter 9500; loss: 0.2475854903459549\n",
      "iter 9600; loss: 0.20102381706237793\n",
      "iter 9700; loss: 0.23380492627620697\n",
      "iter 9800; loss: 0.2619319260120392\n",
      "iter 9900; loss: 0.3026871979236603\n"
     ]
    }
   ],
   "source": [
    "data_iter = iter(trn_dl)\n",
    "model.train()\n",
    "for i in range(10000):\n",
    "    \n",
    "    try: batch = next(data_iter)\n",
    "    except StopIteration:\n",
    "        data_iter = iter(trn_dl)\n",
    "        batch = next(data_iter)\n",
    "    \n",
    "    x,y = batch\n",
    "    logits, loss = model(x, y)\n",
    "\n",
    "    model.zero_grad(set_to_none=True)\n",
    "    loss.backward()\n",
    "    optim.step()\n",
    "\n",
    "    stepi.append(i)\n",
    "    lossi.append(loss.item())\n",
    "    if i % 100 == 0: print(f\"iter {i}; loss: {loss.item()}\")"
   ]
  },
  {
   "cell_type": "code",
   "execution_count": 82,
   "metadata": {},
   "outputs": [],
   "source": [
    "model.eval();"
   ]
  },
  {
   "cell_type": "code",
   "execution_count": 83,
   "metadata": {},
   "outputs": [],
   "source": [
    "ctx = torch.tensor([[1, 1, 4, 5]])"
   ]
  },
  {
   "cell_type": "code",
   "execution_count": 84,
   "metadata": {},
   "outputs": [
    {
     "data": {
      "text/plain": [
       "(tensor([[[  4.7802,  -5.4386,  -0.0706,   6.0520,   6.7292,   1.8795,  -5.1832,\n",
       "            -8.8239,  -3.1751,   3.1298],\n",
       "          [ 11.1984,  15.2023,  11.6835,   3.4338,  -5.8500, -13.0073, -13.4208,\n",
       "           -10.3416,  -6.3123,   2.1211],\n",
       "          [-11.2634, -10.1558, -11.0165,  -3.9702,   3.9940,  10.6039,  13.8860,\n",
       "            11.7175,   4.7249,  -5.5903],\n",
       "          [-12.2206,  -8.1941,  -9.1611,  -3.9704,   4.4655,  11.5215,  15.0808,\n",
       "            10.7768,   1.1859,  -9.3765]]]),\n",
       " torch.Size([1, 4, 10]))"
      ]
     },
     "execution_count": 84,
     "metadata": {},
     "output_type": "execute_result"
    }
   ],
   "source": [
    "with torch.no_grad():\n",
    "    logits, _ = model(ctx)\n",
    "\n",
    "logits, logits.shape"
   ]
  },
  {
   "cell_type": "code",
   "execution_count": 85,
   "metadata": {},
   "outputs": [
    {
     "data": {
      "text/plain": [
       "torch.Size([1, 10])"
      ]
     },
     "execution_count": 85,
     "metadata": {},
     "output_type": "execute_result"
    }
   ],
   "source": [
    "logits = logits[:, -1, :]\n",
    "logits.shape"
   ]
  },
  {
   "cell_type": "code",
   "execution_count": 86,
   "metadata": {},
   "outputs": [
    {
     "data": {
      "text/plain": [
       "tensor([6])"
      ]
     },
     "execution_count": 86,
     "metadata": {},
     "output_type": "execute_result"
    }
   ],
   "source": [
    "with torch.no_grad():\n",
    "    next_tok = torch.argmax(logits, dim=-1)\n",
    "\n",
    "next_tok"
   ]
  },
  {
   "cell_type": "code",
   "execution_count": 87,
   "metadata": {},
   "outputs": [
    {
     "data": {
      "text/plain": [
       "tensor([[1, 1, 4, 5, 6]])"
      ]
     },
     "execution_count": 87,
     "metadata": {},
     "output_type": "execute_result"
    }
   ],
   "source": [
    "ctx = torch.cat([ctx, next_tok.unsqueeze(0)], dim=-1)\n",
    "ctx"
   ]
  },
  {
   "cell_type": "code",
   "execution_count": 88,
   "metadata": {},
   "outputs": [
    {
     "data": {
      "text/plain": [
       "torch.Size([1, 10])"
      ]
     },
     "execution_count": 88,
     "metadata": {},
     "output_type": "execute_result"
    }
   ],
   "source": [
    "with torch.no_grad():\n",
    "    logits, _ = model(ctx)\n",
    "\n",
    "logits = logits[:, -1, :]\n",
    "logits.shape"
   ]
  },
  {
   "cell_type": "code",
   "execution_count": 89,
   "metadata": {},
   "outputs": [
    {
     "data": {
      "text/plain": [
       "tensor([5])"
      ]
     },
     "execution_count": 89,
     "metadata": {},
     "output_type": "execute_result"
    }
   ],
   "source": [
    "with torch.no_grad():\n",
    "    next_tok = torch.argmax(logits, dim=-1)\n",
    "\n",
    "next_tok"
   ]
  },
  {
   "cell_type": "code",
   "execution_count": 90,
   "metadata": {},
   "outputs": [
    {
     "data": {
      "text/plain": [
       "tensor([[1, 1, 4, 5, 6, 5]])"
      ]
     },
     "execution_count": 90,
     "metadata": {},
     "output_type": "execute_result"
    }
   ],
   "source": [
    "ctx = torch.cat([ctx, next_tok.unsqueeze(0)], dim=-1)\n",
    "ctx"
   ]
  },
  {
   "cell_type": "code",
   "execution_count": 91,
   "metadata": {},
   "outputs": [
    {
     "data": {
      "text/plain": [
       "[<matplotlib.lines.Line2D at 0x7c34c0c99bd0>]"
      ]
     },
     "execution_count": 91,
     "metadata": {},
     "output_type": "execute_result"
    },
    {
     "data": {
      "image/png": "[encoded data removed]",
      "text/plain": [
       "<Figure size 640x480 with 1 Axes>"
      ]
     },
     "metadata": {},
     "output_type": "display_data"
    }
   ],
   "source": [
    "plt.plot(stepi, lossi)"
   ]
  },
  {
   "cell_type": "code",
   "execution_count": 92,
   "metadata": {},
   "outputs": [
    {
     "data": {
      "text/plain": [
       "[<matplotlib.lines.Line2D at 0x7c34c0ce39d0>]"
      ]
     },
     "execution_count": 92,
     "metadata": {},
     "output_type": "execute_result"
    },
    {
     "data": {
      "image/png": "[encoded data removed]",
      "text/plain": [
       "<Figure size 640x480 with 1 Axes>"
      ]
     },
     "metadata": {},
     "output_type": "display_data"
    }
   ],
   "source": [
    "plt.plot(stepi, torch.tensor(lossi).log10().tolist())"
   ]
  },
  {
   "cell_type": "code",
   "execution_count": 93,
   "metadata": {},
   "outputs": [
    {
     "data": {
      "text/plain": [
       "(tensor([8, 9, 0, 9, 8, 9]), tensor([-1, -1, -1,  8,  9,  0]))"
      ]
     },
     "execution_count": 93,
     "metadata": {},
     "output_type": "execute_result"
    }
   ],
   "source": [
    "trn_ds[torch.randint(0, len(trn_ds), (1,)).item()]"
   ]
  },
  {
   "cell_type": "code",
   "execution_count": 94,
   "metadata": {},
   "outputs": [
    {
     "data": {
      "text/plain": [
       "tensor([[0, 5, 0, 8, 3, 1, 0]])"
      ]
     },
     "execution_count": 94,
     "metadata": {},
     "output_type": "execute_result"
    }
   ],
   "source": [
    "with torch.no_grad():\n",
    "    ctx = torch.tensor([[0, 5, 0, 8]])\n",
    "    model.eval()\n",
    "    while ctx.shape[-1] < 7:\n",
    "        logits, _ = model(ctx)\n",
    "        logits = logits[:, -1, :]\n",
    "        next_tok = torch.argmax(logits, dim=-1)\n",
    "        ctx = torch.cat([ctx, next_tok.unsqueeze(0)], dim=-1)\n",
    "    \n",
    "ctx"
   ]
  },
  {
   "cell_type": "code",
   "execution_count": 95,
   "metadata": {},
   "outputs": [],
   "source": [
    "test_ds = AddDs('test')"
   ]
  },
  {
   "cell_type": "code",
   "execution_count": 96,
   "metadata": {},
   "outputs": [
    {
     "data": {
      "text/plain": [
       "'750'"
      ]
     },
     "execution_count": 96,
     "metadata": {},
     "output_type": "execute_result"
    }
   ],
   "source": [
    "''.join([str(o) for o in torch.tensor([-1, -1, -1, 7, 5, 0])[-3:].tolist()])"
   ]
  },
  {
   "cell_type": "code",
   "execution_count": 97,
   "metadata": {},
   "outputs": [
    {
     "data": {
      "text/plain": [
       "tensor(7542)"
      ]
     },
     "execution_count": 97,
     "metadata": {},
     "output_type": "execute_result"
    }
   ],
   "source": [
    "samp = test_ds.ixs[0]\n",
    "samp"
   ]
  },
  {
   "cell_type": "code",
   "execution_count": 98,
   "metadata": {},
   "outputs": [
    {
     "data": {
      "text/plain": [
       "('75', '42', '711')"
      ]
     },
     "execution_count": 98,
     "metadata": {},
     "output_type": "execute_result"
    }
   ],
   "source": [
    "a = samp // (10 ** 2)\n",
    "b = samp % (10 ** 2)\n",
    "c = a+b\n",
    "astr = f\"%0{2}d\" % a # 2 -> 02; 12 -> 12\n",
    "bstr = f\"%0{2}d\" % b # 2 -> 02; 12 -> 12\n",
    "cstr = (f\"%0{2}d\" % c)[::-1] # 2 -> 200; 12 -> 210\n",
    "astr, bstr, cstr"
   ]
  },
  {
   "cell_type": "code",
   "execution_count": 99,
   "metadata": {},
   "outputs": [
    {
     "data": {
      "text/plain": [
       "13"
      ]
     },
     "execution_count": 99,
     "metadata": {},
     "output_type": "execute_result"
    }
   ],
   "source": [
    "def test_model(ctx: torch.Tensor, return_type: Literal['str', 'int'] = 'str'):\n",
    "    with torch.no_grad():\n",
    "        model.eval()\n",
    "        while ctx.shape[-1] < 7:\n",
    "            logits, _ = model(ctx)\n",
    "            logits = logits[:, -1, :]\n",
    "            next_tok = torch.argmax(logits, dim=-1)\n",
    "            ctx = torch.cat([ctx, next_tok.unsqueeze(0)], dim=-1)\n",
    "    \n",
    "    ans = ctx[0][-3:].tolist()\n",
    "    ans = ''.join([str(o) for o in ans])[::-1]\n",
    "    if return_type == 'int': return int(ans)\n",
    "    else: return ans\n",
    "\n",
    "test_model(torch.tensor([[0, 5, 0, 8]]), 'int')"
   ]
  },
  {
   "cell_type": "code",
   "execution_count": 121,
   "metadata": {},
   "outputs": [
    {
     "name": "stdout",
     "output_type": "stream",
     "text": [
      "input: 6010 | pred: 080 | actual: 070\n",
      "-----------------------\n",
      "input: 9171 | pred: 172 | actual: 162\n",
      "-----------------------\n",
      "input: 8270 | pred: 162 | actual: 152\n",
      "-----------------------\n",
      "input: 0053 | pred: 063 | actual: 053\n",
      "-----------------------\n",
      "input: 1919 | pred: 028 | actual: 038\n",
      "-----------------------\n",
      "input: 8181 | pred: 172 | actual: 162\n",
      "-----------------------\n",
      "input: 2578 | pred: 093 | actual: 103\n",
      "-----------------------\n",
      "input: 2179 | pred: 090 | actual: 100\n",
      "-----------------------\n",
      "input: 8171 | pred: 162 | actual: 152\n",
      "-----------------------\n",
      "input: 7170 | pred: 151 | actual: 141\n",
      "-----------------------\n",
      "input: 0513 | pred: 008 | actual: 018\n",
      "-----------------------\n",
      "input: 8728 | pred: 125 | actual: 115\n",
      "-----------------------\n",
      "input: 9698 | pred: 184 | actual: 194\n",
      "-----------------------\n",
      "input: 0856 | pred: 074 | actual: 064\n",
      "-----------------------\n",
      "input: 9209 | pred: 091 | actual: 101\n",
      "-----------------------\n",
      "input: 3082 | pred: 102 | actual: 112\n",
      "-----------------------\n",
      "input: 2779 | pred: 096 | actual: 106\n",
      "-----------------------\n",
      "input: 6191 | pred: 162 | actual: 152\n",
      "-----------------------\n",
      "input: 7042 | pred: 102 | actual: 112\n",
      "-----------------------\n",
      "input: 7092 | pred: 172 | actual: 162\n",
      "-----------------------\n",
      "input: 9708 | pred: 095 | actual: 105\n",
      "-----------------------\n",
      "input: 0994 | pred: 093 | actual: 103\n",
      "-----------------------\n",
      "input: 4402 | pred: 056 | actual: 046\n",
      "-----------------------\n",
      "input: 0011 | pred: 021 | actual: 011\n",
      "-----------------------\n",
      "input: 1909 | pred: 018 | actual: 028\n",
      "-----------------------\n",
      "input: 7086 | pred: 166 | actual: 156\n",
      "-----------------------\n",
      "input: 1789 | pred: 096 | actual: 106\n",
      "-----------------------\n",
      "input: 7148 | pred: 109 | actual: 119\n",
      "-----------------------\n",
      "input: 0895 | pred: 093 | actual: 103\n",
      "-----------------------\n",
      "input: 0315 | pred: 008 | actual: 018\n",
      "-----------------------\n",
      "input: 2529 | pred: 044 | actual: 054\n",
      "-----------------------\n",
      "input: 9419 | pred: 103 | actual: 113\n",
      "-----------------------\n",
      "input: 9496 | pred: 180 | actual: 190\n",
      "-----------------------\n",
      "input: 9062 | pred: 162 | actual: 152\n",
      "-----------------------\n",
      "input: 0021 | pred: 031 | actual: 021\n",
      "-----------------------\n",
      "input: 9914 | pred: 103 | actual: 113\n",
      "-----------------------\n",
      "input: 8388 | pred: 181 | actual: 171\n",
      "-----------------------\n",
      "input: 7091 | pred: 171 | actual: 161\n",
      "-----------------------\n",
      "input: 2971 | pred: 090 | actual: 100\n",
      "-----------------------\n",
      "input: 9072 | pred: 172 | actual: 162\n",
      "-----------------------\n",
      "input: 8576 | pred: 171 | actual: 161\n",
      "-----------------------\n",
      "input: 4541 | pred: 096 | actual: 086\n",
      "-----------------------\n",
      "input: 7087 | pred: 167 | actual: 157\n",
      "-----------------------\n",
      "input: 0779 | pred: 076 | actual: 086\n",
      "-----------------------\n",
      "input: 6290 | pred: 162 | actual: 152\n",
      "-----------------------\n",
      "input: 5665 | pred: 111 | actual: 121\n",
      "-----------------------\n",
      "input: 7191 | pred: 172 | actual: 162\n",
      "-----------------------\n",
      "input: 6180 | pred: 151 | actual: 141\n",
      "-----------------------\n",
      "input: 7052 | pred: 112 | actual: 122\n",
      "-----------------------\n",
      "input: 0878 | pred: 076 | actual: 086\n",
      "-----------------------\n",
      "input: 7917 | pred: 086 | actual: 096\n",
      "-----------------------\n",
      "input: 9760 | pred: 167 | actual: 157\n",
      "-----------------------\n",
      "input: 3380 | pred: 103 | actual: 113\n",
      "-----------------------\n",
      "input: 7181 | pred: 162 | actual: 152\n",
      "-----------------------\n",
      "input: 2829 | pred: 047 | actual: 057\n",
      "-----------------------\n",
      "input: 1151 | pred: 072 | actual: 062\n",
      "-----------------------\n",
      "input: 5266 | pred: 108 | actual: 118\n",
      "-----------------------\n",
      "input: 4105 | pred: 056 | actual: 046\n",
      "-----------------------\n",
      "input: 9815 | pred: 103 | actual: 113\n",
      "-----------------------\n",
      "input: 4373 | pred: 106 | actual: 116\n",
      "-----------------------\n",
      "input: 9805 | pred: 093 | actual: 103\n",
      "-----------------------\n",
      "input: 8280 | pred: 172 | actual: 162\n",
      "-----------------------\n",
      "input: 2725 | pred: 042 | actual: 052\n",
      "-----------------------\n",
      "input: 6556 | pred: 111 | actual: 121\n",
      "-----------------------\n",
      "input: 9714 | pred: 101 | actual: 111\n",
      "-----------------------\n",
      "input: 0996 | pred: 095 | actual: 105\n",
      "-----------------------\n",
      "input: 1878 | pred: 086 | actual: 096\n",
      "-----------------------\n",
      "input: 9170 | pred: 171 | actual: 161\n",
      "-----------------------\n",
      "input: 7083 | pred: 163 | actual: 153\n",
      "-----------------------\n",
      "input: 8676 | pred: 172 | actual: 162\n",
      "-----------------------\n",
      "input: 6612 | pred: 088 | actual: 078\n",
      "-----------------------\n",
      "input: 7082 | pred: 162 | actual: 152\n",
      "-----------------------\n",
      "input: 9035 | pred: 135 | actual: 125\n",
      "-----------------------\n",
      "input: 2874 | pred: 092 | actual: 102\n",
      "-----------------------\n",
      "input: 2676 | pred: 092 | actual: 102\n",
      "-----------------------\n",
      "input: 2476 | pred: 090 | actual: 100\n",
      "-----------------------\n",
      "input: 0706 | pred: 003 | actual: 013\n",
      "-----------------------\n",
      "input: 5563 | pred: 108 | actual: 118\n",
      "-----------------------\n",
      "input: 9609 | pred: 095 | actual: 105\n",
      "-----------------------\n",
      "input: 6890 | pred: 168 | actual: 158\n",
      "-----------------------\n",
      "input: 6566 | pred: 121 | actual: 131\n",
      "-----------------------\n",
      "input: 7140 | pred: 101 | actual: 111\n",
      "-----------------------\n",
      "input: 9906 | pred: 095 | actual: 105\n",
      "-----------------------\n"
     ]
    }
   ],
   "source": [
    "test_acc = []\n",
    "test_err_diffs = []\n",
    "\n",
    "for s in test_ds.ixs:\n",
    "    a = s // (10 ** 2)\n",
    "    b = s % (10 ** 2)\n",
    "    c = a+b\n",
    "\n",
    "    astr = f\"%0{2}d\" % a\n",
    "    bstr = f\"%0{2}d\" % b\n",
    "    cstr = (f\"%0{3}d\" % c) # `test_model` returns the reverse of the actual answer (i.e., human readable answer)\n",
    "\n",
    "    x = astr + bstr\n",
    "    y = cstr\n",
    "    toks = torch.tensor([int(o) for o in x]).unsqueeze(0)\n",
    "\n",
    "    pred = test_model(toks)\n",
    "    if pred != y:\n",
    "        test_err_diffs.append((int(pred) - int(y)))\n",
    "        print(f\"input: {x} | pred: {pred} | actual: {y}\")\n",
    "        print(\"-----------------------\")\n",
    "\n",
    "    test_acc.append(pred == y)"
   ]
  },
  {
   "cell_type": "code",
   "execution_count": 122,
   "metadata": {},
   "outputs": [
    {
     "data": {
      "text/plain": [
       "10"
      ]
     },
     "execution_count": 122,
     "metadata": {},
     "output_type": "execute_result"
    }
   ],
   "source": [
    "max(test_err_diffs)"
   ]
  },
  {
   "cell_type": "code",
   "execution_count": 123,
   "metadata": {},
   "outputs": [
    {
     "data": {
      "text/plain": [
       "torch.return_types.mode(\n",
       "values=tensor(-10.),\n",
       "indices=tensor(74))"
      ]
     },
     "execution_count": 123,
     "metadata": {},
     "output_type": "execute_result"
    }
   ],
   "source": [
    "torch.tensor(test_err_diffs).float().mode()"
   ]
  },
  {
   "cell_type": "code",
   "execution_count": 126,
   "metadata": {},
   "outputs": [
    {
     "data": {
      "text/plain": [
       "'Test Accuracy: 95.85%'"
      ]
     },
     "execution_count": 126,
     "metadata": {},
     "output_type": "execute_result"
    }
   ],
   "source": [
    "f\"Test Accuracy: {torch.tensor(test_acc).float().mean().item()*100:.2f}%\""
   ]
  },
  {
   "cell_type": "code",
   "execution_count": 135,
   "metadata": {},
   "outputs": [],
   "source": [
    "trn_acc = []\n",
    "trn_err_diffs = []\n",
    "\n",
    "for s in trn_ds.ixs:\n",
    "    a = s // (10 ** 2)\n",
    "    b = s % (10 ** 2)\n",
    "    c = a+b\n",
    "\n",
    "    astr = f\"%0{2}d\" % a\n",
    "    bstr = f\"%0{2}d\" % b\n",
    "    cstr = (f\"%0{3}d\" % c) # `test_model` returns the reverse of the actual answer (i.e., human readable answer)\n",
    "\n",
    "    x = astr + bstr\n",
    "    y = cstr\n",
    "    toks = torch.tensor([int(o) for o in x]).unsqueeze(0)\n",
    "\n",
    "    pred = test_model(toks)\n",
    "    if pred != y:\n",
    "        trn_err_diffs.append((int(pred) - int(y)))\n",
    "        # print(f\"input: {x} | pred: {pred} | actual: {y}\")\n",
    "        # print(\"-----------------------\")\n",
    "    trn_acc.append(pred == y)"
   ]
  },
  {
   "cell_type": "code",
   "execution_count": 136,
   "metadata": {},
   "outputs": [
    {
     "data": {
      "text/plain": [
       "10"
      ]
     },
     "execution_count": 136,
     "metadata": {},
     "output_type": "execute_result"
    }
   ],
   "source": [
    "max(trn_err_diffs)"
   ]
  },
  {
   "cell_type": "code",
   "execution_count": 137,
   "metadata": {},
   "outputs": [
    {
     "data": {
      "text/plain": [
       "torch.return_types.mode(\n",
       "values=tensor(-10.),\n",
       "indices=tensor(107))"
      ]
     },
     "execution_count": 137,
     "metadata": {},
     "output_type": "execute_result"
    }
   ],
   "source": [
    "torch.tensor(trn_err_diffs).float().mode()"
   ]
  },
  {
   "cell_type": "code",
   "execution_count": 138,
   "metadata": {},
   "outputs": [
    {
     "data": {
      "text/plain": [
       "'Train Accuracy: 96.19%'"
      ]
     },
     "execution_count": 138,
     "metadata": {},
     "output_type": "execute_result"
    }
   ],
   "source": [
    "f\"Train Accuracy: {torch.tensor(trn_acc).float().mean().item()*100:.2f}%\""
   ]
  },
  {
   "cell_type": "code",
   "execution_count": null,
   "metadata": {},
   "outputs": [],
   "source": []
  }
 ],
 "metadata": {
  "kernelspec": {
   "display_name": ".venv",
   "language": "python",
   "name": "python3"
  },
  "language_info": {
   "codemirror_mode": {
    "name": "ipython",
    "version": 3
   },
   "file_extension": ".py",
   "mimetype": "text/x-python",
   "name": "python",
   "nbconvert_exporter": "python",
   "pygments_lexer": "ipython3",
   "version": "3.13.1"
  }
 },
 "nbformat": 4,
 "nbformat_minor": 2
}
